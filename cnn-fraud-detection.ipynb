{
 "cells": [
  {
   "cell_type": "markdown",
   "id": "67a3355c",
   "metadata": {
    "papermill": {
     "duration": 0.009815,
     "end_time": "2022-10-11T05:55:36.443879",
     "exception": false,
     "start_time": "2022-10-11T05:55:36.434064",
     "status": "completed"
    },
    "tags": []
   },
   "source": [
    "# Credit Card Fraud Detection"
   ]
  },
  {
   "cell_type": "markdown",
   "id": "bb9757ca",
   "metadata": {
    "papermill": {
     "duration": 0.008401,
     "end_time": "2022-10-11T05:55:36.460972",
     "exception": false,
     "start_time": "2022-10-11T05:55:36.452571",
     "status": "completed"
    },
    "tags": []
   },
   "source": [
    "## Data Source:\n",
    "\n",
    "The dataset has been collected and analysed during a research collaboration of Worldline and the Machine Learning Group (http://mlg.ulb.ac.be) of ULB (Université Libre de Bruxelles) on big data mining and fraud detection.\n",
    "\n",
    "There are 492 frauds out of 284,807 transactions\n",
    "\n",
    "Features:\n",
    "\n",
    "1) \"Amount\": value in dollars of the transaction\n",
    "\n",
    "2)\"Time: amount of time that passed from the time when the first transaction took place.\n",
    "\n",
    "3) Labels: Fraud = 1 , Not Fraud = 0\n",
    "\n"
   ]
  },
  {
   "cell_type": "code",
   "execution_count": 1,
   "id": "2652439e",
   "metadata": {
    "_cell_guid": "b1076dfc-b9ad-4769-8c92-a6c4dae69d19",
    "_uuid": "8f2839f25d086af736a60e9eeb907d3b93b6e0e5",
    "execution": {
     "iopub.execute_input": "2022-10-11T05:55:36.480478Z",
     "iopub.status.busy": "2022-10-11T05:55:36.480050Z",
     "iopub.status.idle": "2022-10-11T05:55:43.481544Z",
     "shell.execute_reply": "2022-10-11T05:55:43.480614Z"
    },
    "papermill": {
     "duration": 7.014714,
     "end_time": "2022-10-11T05:55:43.484478",
     "exception": false,
     "start_time": "2022-10-11T05:55:36.469764",
     "status": "completed"
    },
    "tags": []
   },
   "outputs": [],
   "source": [
    "import pandas as pd\n",
    "import numpy as np\n",
    "import seaborn as sns\n",
    "import matplotlib.pyplot as plt \n",
    "import tensorflow as tf\n",
    "from tensorflow import keras\n",
    "from keras import Sequential\n",
    "from tensorflow.keras.optimizers import Adam\n",
    "from keras.layers import Flatten, Dense, Dropout, BatchNormalization\n",
    "from keras.layers import Conv1D, MaxPool1D\n",
    "from sklearn.model_selection import train_test_split\n",
    "from sklearn.preprocessing import StandardScaler\n",
    "from sklearn.metrics import confusion_matrix"
   ]
  },
  {
   "cell_type": "markdown",
   "id": "6260d612",
   "metadata": {
    "papermill": {
     "duration": 0.008884,
     "end_time": "2022-10-11T05:55:43.502682",
     "exception": false,
     "start_time": "2022-10-11T05:55:43.493798",
     "status": "completed"
    },
    "tags": []
   },
   "source": [
    "#### Load the data:"
   ]
  },
  {
   "cell_type": "code",
   "execution_count": 2,
   "id": "a9940978",
   "metadata": {
    "execution": {
     "iopub.execute_input": "2022-10-11T05:55:43.523066Z",
     "iopub.status.busy": "2022-10-11T05:55:43.522422Z",
     "iopub.status.idle": "2022-10-11T05:55:47.874566Z",
     "shell.execute_reply": "2022-10-11T05:55:47.873469Z"
    },
    "papermill": {
     "duration": 4.36552,
     "end_time": "2022-10-11T05:55:47.877514",
     "exception": false,
     "start_time": "2022-10-11T05:55:43.511994",
     "status": "completed"
    },
    "tags": []
   },
   "outputs": [
    {
     "name": "stdout",
     "output_type": "stream",
     "text": [
      "<class 'pandas.core.frame.DataFrame'>\n",
      "RangeIndex: 284807 entries, 0 to 284806\n",
      "Data columns (total 31 columns):\n",
      " #   Column  Non-Null Count   Dtype  \n",
      "---  ------  --------------   -----  \n",
      " 0   Time    284807 non-null  float64\n",
      " 1   V1      284807 non-null  float64\n",
      " 2   V2      284807 non-null  float64\n",
      " 3   V3      284807 non-null  float64\n",
      " 4   V4      284807 non-null  float64\n",
      " 5   V5      284807 non-null  float64\n",
      " 6   V6      284807 non-null  float64\n",
      " 7   V7      284807 non-null  float64\n",
      " 8   V8      284807 non-null  float64\n",
      " 9   V9      284807 non-null  float64\n",
      " 10  V10     284807 non-null  float64\n",
      " 11  V11     284807 non-null  float64\n",
      " 12  V12     284807 non-null  float64\n",
      " 13  V13     284807 non-null  float64\n",
      " 14  V14     284807 non-null  float64\n",
      " 15  V15     284807 non-null  float64\n",
      " 16  V16     284807 non-null  float64\n",
      " 17  V17     284807 non-null  float64\n",
      " 18  V18     284807 non-null  float64\n",
      " 19  V19     284807 non-null  float64\n",
      " 20  V20     284807 non-null  float64\n",
      " 21  V21     284807 non-null  float64\n",
      " 22  V22     284807 non-null  float64\n",
      " 23  V23     284807 non-null  float64\n",
      " 24  V24     284807 non-null  float64\n",
      " 25  V25     284807 non-null  float64\n",
      " 26  V26     284807 non-null  float64\n",
      " 27  V27     284807 non-null  float64\n",
      " 28  V28     284807 non-null  float64\n",
      " 29  Amount  284807 non-null  float64\n",
      " 30  Class   284807 non-null  int64  \n",
      "dtypes: float64(30), int64(1)\n",
      "memory usage: 67.4 MB\n"
     ]
    }
   ],
   "source": [
    "cc = pd.read_csv(\"../input/creditcardfraud/creditcard.csv\")\n",
    "cc.info()"
   ]
  },
  {
   "cell_type": "markdown",
   "id": "cff51060",
   "metadata": {
    "papermill": {
     "duration": 0.008093,
     "end_time": "2022-10-11T05:55:47.895687",
     "exception": false,
     "start_time": "2022-10-11T05:55:47.887594",
     "status": "completed"
    },
    "tags": []
   },
   "source": [
    "#### Check for null values:"
   ]
  },
  {
   "cell_type": "code",
   "execution_count": 3,
   "id": "d2c3b486",
   "metadata": {
    "execution": {
     "iopub.execute_input": "2022-10-11T05:55:47.914367Z",
     "iopub.status.busy": "2022-10-11T05:55:47.913981Z",
     "iopub.status.idle": "2022-10-11T05:55:47.946651Z",
     "shell.execute_reply": "2022-10-11T05:55:47.945530Z"
    },
    "papermill": {
     "duration": 0.0449,
     "end_time": "2022-10-11T05:55:47.949014",
     "exception": false,
     "start_time": "2022-10-11T05:55:47.904114",
     "status": "completed"
    },
    "tags": []
   },
   "outputs": [
    {
     "data": {
      "text/plain": [
       "Time      0\n",
       "V1        0\n",
       "V2        0\n",
       "V3        0\n",
       "V4        0\n",
       "V5        0\n",
       "V6        0\n",
       "V7        0\n",
       "V8        0\n",
       "V9        0\n",
       "V10       0\n",
       "V11       0\n",
       "V12       0\n",
       "V13       0\n",
       "V14       0\n",
       "V15       0\n",
       "V16       0\n",
       "V17       0\n",
       "V18       0\n",
       "V19       0\n",
       "V20       0\n",
       "V21       0\n",
       "V22       0\n",
       "V23       0\n",
       "V24       0\n",
       "V25       0\n",
       "V26       0\n",
       "V27       0\n",
       "V28       0\n",
       "Amount    0\n",
       "Class     0\n",
       "dtype: int64"
      ]
     },
     "execution_count": 3,
     "metadata": {},
     "output_type": "execute_result"
    }
   ],
   "source": [
    "cc.isnull().sum()"
   ]
  },
  {
   "cell_type": "code",
   "execution_count": 4,
   "id": "ae481b8c",
   "metadata": {
    "execution": {
     "iopub.execute_input": "2022-10-11T05:55:47.967291Z",
     "iopub.status.busy": "2022-10-11T05:55:47.966935Z",
     "iopub.status.idle": "2022-10-11T05:55:48.121677Z",
     "shell.execute_reply": "2022-10-11T05:55:48.119700Z"
    },
    "papermill": {
     "duration": 0.16904,
     "end_time": "2022-10-11T05:55:48.126706",
     "exception": false,
     "start_time": "2022-10-11T05:55:47.957666",
     "status": "completed"
    },
    "tags": []
   },
   "outputs": [
    {
     "name": "stderr",
     "output_type": "stream",
     "text": [
      "/opt/conda/lib/python3.7/site-packages/seaborn/_decorators.py:43: FutureWarning: Pass the following variable as a keyword arg: x. From version 0.12, the only valid positional argument will be `data`, and passing other arguments without an explicit keyword will result in an error or misinterpretation.\n",
      "  FutureWarning\n"
     ]
    },
    {
     "data": {
      "image/png": "[encoded data removed]",
      "text/plain": [
       "<Figure size 432x360 with 1 Axes>"
      ]
     },
     "metadata": {
      "needs_background": "light"
     },
     "output_type": "display_data"
    }
   ],
   "source": [
    "x=cc.Class\n",
    "plt.figure(figsize = (6,5))\n",
    "sns.countplot(x, color = \"blue\")\n",
    "plt.show()"
   ]
  },
  {
   "cell_type": "markdown",
   "id": "ffc3675f",
   "metadata": {
    "papermill": {
     "duration": 0.008177,
     "end_time": "2022-10-11T05:55:48.156651",
     "exception": false,
     "start_time": "2022-10-11T05:55:48.148474",
     "status": "completed"
    },
    "tags": []
   },
   "source": [
    "We can clearly see that there is a large imbalance between the \"fraud\" and \"non-fraud\" data labels, so before moving forward with any analysis, we need to balance the data."
   ]
  },
  {
   "cell_type": "markdown",
   "id": "0d64edac",
   "metadata": {
    "papermill": {
     "duration": 0.008333,
     "end_time": "2022-10-11T05:55:48.173615",
     "exception": false,
     "start_time": "2022-10-11T05:55:48.165282",
     "status": "completed"
    },
    "tags": []
   },
   "source": [
    "#### Balance the Data:"
   ]
  },
  {
   "cell_type": "code",
   "execution_count": 5,
   "id": "17f39f76",
   "metadata": {
    "execution": {
     "iopub.execute_input": "2022-10-11T05:55:48.192701Z",
     "iopub.status.busy": "2022-10-11T05:55:48.192321Z",
     "iopub.status.idle": "2022-10-11T05:55:48.256734Z",
     "shell.execute_reply": "2022-10-11T05:55:48.255575Z"
    },
    "papermill": {
     "duration": 0.076562,
     "end_time": "2022-10-11T05:55:48.259025",
     "exception": false,
     "start_time": "2022-10-11T05:55:48.182463",
     "status": "completed"
    },
    "tags": []
   },
   "outputs": [
    {
     "data": {
      "text/plain": [
       "((284315, 31), (492, 31))"
      ]
     },
     "execution_count": 5,
     "metadata": {},
     "output_type": "execute_result"
    }
   ],
   "source": [
    "fair_data = cc[cc['Class']==0]\n",
    "fraud_data = cc[cc['Class']==1]\n",
    "fair_data.shape, fraud_data.shape"
   ]
  },
  {
   "cell_type": "code",
   "execution_count": 6,
   "id": "2aa19aa2",
   "metadata": {
    "execution": {
     "iopub.execute_input": "2022-10-11T05:55:48.279382Z",
     "iopub.status.busy": "2022-10-11T05:55:48.278995Z",
     "iopub.status.idle": "2022-10-11T05:55:48.291309Z",
     "shell.execute_reply": "2022-10-11T05:55:48.290474Z"
    },
    "papermill": {
     "duration": 0.025786,
     "end_time": "2022-10-11T05:55:48.294050",
     "exception": false,
     "start_time": "2022-10-11T05:55:48.268264",
     "status": "completed"
    },
    "tags": []
   },
   "outputs": [],
   "source": [
    "fair_data_1 = fair_data.sample(fraud_data.shape[0])\n"
   ]
  },
  {
   "cell_type": "code",
   "execution_count": 7,
   "id": "6c5c1f5f",
   "metadata": {
    "execution": {
     "iopub.execute_input": "2022-10-11T05:55:48.316122Z",
     "iopub.status.busy": "2022-10-11T05:55:48.315746Z",
     "iopub.status.idle": "2022-10-11T05:55:48.325885Z",
     "shell.execute_reply": "2022-10-11T05:55:48.324997Z"
    },
    "papermill": {
     "duration": 0.02413,
     "end_time": "2022-10-11T05:55:48.328112",
     "exception": false,
     "start_time": "2022-10-11T05:55:48.303982",
     "status": "completed"
    },
    "tags": []
   },
   "outputs": [
    {
     "data": {
      "text/plain": [
       "1    492\n",
       "0    492\n",
       "Name: Class, dtype: int64"
      ]
     },
     "execution_count": 7,
     "metadata": {},
     "output_type": "execute_result"
    }
   ],
   "source": [
    "bal_data = fraud_data.append(fair_data_1,ignore_index = True) \n",
    "bal_data['Class'].value_counts()"
   ]
  },
  {
   "cell_type": "code",
   "execution_count": 8,
   "id": "8e572f8e",
   "metadata": {
    "execution": {
     "iopub.execute_input": "2022-10-11T05:55:48.348830Z",
     "iopub.status.busy": "2022-10-11T05:55:48.348354Z",
     "iopub.status.idle": "2022-10-11T05:55:48.354234Z",
     "shell.execute_reply": "2022-10-11T05:55:48.353493Z"
    },
    "papermill": {
     "duration": 0.018696,
     "end_time": "2022-10-11T05:55:48.356351",
     "exception": false,
     "start_time": "2022-10-11T05:55:48.337655",
     "status": "completed"
    },
    "tags": []
   },
   "outputs": [],
   "source": [
    "features = bal_data.drop('Class',axis=1)\n",
    "labels = bal_data['Class']"
   ]
  },
  {
   "cell_type": "markdown",
   "id": "412f3359",
   "metadata": {
    "papermill": {
     "duration": 0.008847,
     "end_time": "2022-10-11T05:55:48.374496",
     "exception": false,
     "start_time": "2022-10-11T05:55:48.365649",
     "status": "completed"
    },
    "tags": []
   },
   "source": [
    "#### Split the data into training/test:"
   ]
  },
  {
   "cell_type": "code",
   "execution_count": 9,
   "id": "082fda6d",
   "metadata": {
    "execution": {
     "iopub.execute_input": "2022-10-11T05:55:48.394755Z",
     "iopub.status.busy": "2022-10-11T05:55:48.394118Z",
     "iopub.status.idle": "2022-10-11T05:55:48.401864Z",
     "shell.execute_reply": "2022-10-11T05:55:48.400991Z"
    },
    "papermill": {
     "duration": 0.020307,
     "end_time": "2022-10-11T05:55:48.403985",
     "exception": false,
     "start_time": "2022-10-11T05:55:48.383678",
     "status": "completed"
    },
    "tags": []
   },
   "outputs": [],
   "source": [
    "features_train,features_test,labels_train,labels_test = train_test_split(features,labels,test_size=.20,random_state=41,stratify = labels)"
   ]
  },
  {
   "cell_type": "markdown",
   "id": "d860679f",
   "metadata": {
    "papermill": {
     "duration": 0.008975,
     "end_time": "2022-10-11T05:55:48.422622",
     "exception": false,
     "start_time": "2022-10-11T05:55:48.413647",
     "status": "completed"
    },
    "tags": []
   },
   "source": [
    "I decided to do something different and construct a CNN model for this project. I know that normally a CNN model would not be used in this context, but I thought it would be interesting to have to transform the data and see how a CNN model would work. Given this, before constructing the model, the data needs to be transformed from 2D to 3D:"
   ]
  },
  {
   "cell_type": "code",
   "execution_count": 10,
   "id": "e59298c5",
   "metadata": {
    "execution": {
     "iopub.execute_input": "2022-10-11T05:55:48.443467Z",
     "iopub.status.busy": "2022-10-11T05:55:48.443047Z",
     "iopub.status.idle": "2022-10-11T05:55:48.456038Z",
     "shell.execute_reply": "2022-10-11T05:55:48.455298Z"
    },
    "papermill": {
     "duration": 0.025888,
     "end_time": "2022-10-11T05:55:48.458067",
     "exception": false,
     "start_time": "2022-10-11T05:55:48.432179",
     "status": "completed"
    },
    "tags": []
   },
   "outputs": [],
   "source": [
    "scaler = StandardScaler()\n",
    "features_train_1 = scaler.fit_transform(features_train)\n",
    "features_test_1 = scaler.fit_transform(features_test)\n",
    "\n",
    "\n",
    "features_train = pd.DataFrame(features_train)\n",
    "features_test = pd.DataFrame(features_test)"
   ]
  },
  {
   "cell_type": "code",
   "execution_count": 11,
   "id": "cef99b11",
   "metadata": {
    "execution": {
     "iopub.execute_input": "2022-10-11T05:55:48.478258Z",
     "iopub.status.busy": "2022-10-11T05:55:48.477878Z",
     "iopub.status.idle": "2022-10-11T05:55:48.482447Z",
     "shell.execute_reply": "2022-10-11T05:55:48.481454Z"
    },
    "papermill": {
     "duration": 0.017264,
     "end_time": "2022-10-11T05:55:48.484547",
     "exception": false,
     "start_time": "2022-10-11T05:55:48.467283",
     "status": "completed"
    },
    "tags": []
   },
   "outputs": [],
   "source": [
    "features_train = features_train.to_numpy()\n",
    "features_test = features_test.to_numpy()"
   ]
  },
  {
   "cell_type": "code",
   "execution_count": 12,
   "id": "031b8676",
   "metadata": {
    "execution": {
     "iopub.execute_input": "2022-10-11T05:55:48.505173Z",
     "iopub.status.busy": "2022-10-11T05:55:48.504551Z",
     "iopub.status.idle": "2022-10-11T05:55:48.512469Z",
     "shell.execute_reply": "2022-10-11T05:55:48.511570Z"
    },
    "papermill": {
     "duration": 0.020607,
     "end_time": "2022-10-11T05:55:48.514497",
     "exception": false,
     "start_time": "2022-10-11T05:55:48.493890",
     "status": "completed"
    },
    "tags": []
   },
   "outputs": [
    {
     "data": {
      "text/plain": [
       "((787, 30, 1), (197, 30, 1))"
      ]
     },
     "execution_count": 12,
     "metadata": {},
     "output_type": "execute_result"
    }
   ],
   "source": [
    "features_train = features_train.reshape(features_train.shape[0],features_train.shape[1],1)\n",
    "features_test = features_test.reshape(features_test.shape[0],features_test.shape[1],1)\n",
    "\n",
    "features_train.shape, features_test.shape"
   ]
  },
  {
   "cell_type": "markdown",
   "id": "0e24a060",
   "metadata": {
    "papermill": {
     "duration": 0.008983,
     "end_time": "2022-10-11T05:55:48.533031",
     "exception": false,
     "start_time": "2022-10-11T05:55:48.524048",
     "status": "completed"
    },
    "tags": []
   },
   "source": [
    "## Modeling:\n"
   ]
  },
  {
   "cell_type": "markdown",
   "id": "e7908a36",
   "metadata": {
    "papermill": {
     "duration": 0.008562,
     "end_time": "2022-10-11T05:55:48.550820",
     "exception": false,
     "start_time": "2022-10-11T05:55:48.542258",
     "status": "completed"
    },
    "tags": []
   },
   "source": [
    "### Model 1: Basic Convolutional Neural Network Model (CNN)"
   ]
  },
  {
   "cell_type": "code",
   "execution_count": 13,
   "id": "9419ef98",
   "metadata": {
    "execution": {
     "iopub.execute_input": "2022-10-11T05:55:48.570380Z",
     "iopub.status.busy": "2022-10-11T05:55:48.569946Z",
     "iopub.status.idle": "2022-10-11T05:55:48.731304Z",
     "shell.execute_reply": "2022-10-11T05:55:48.729638Z"
    },
    "papermill": {
     "duration": 0.174268,
     "end_time": "2022-10-11T05:55:48.733794",
     "exception": false,
     "start_time": "2022-10-11T05:55:48.559526",
     "status": "completed"
    },
    "tags": []
   },
   "outputs": [
    {
     "name": "stdout",
     "output_type": "stream",
     "text": [
      "Model: \"sequential\"\n",
      "_________________________________________________________________\n",
      "Layer (type)                 Output Shape              Param #   \n",
      "=================================================================\n",
      "conv1d (Conv1D)              (None, 29, 32)            96        \n",
      "_________________________________________________________________\n",
      "dropout (Dropout)            (None, 29, 32)            0         \n",
      "_________________________________________________________________\n",
      "batch_normalization (BatchNo (None, 29, 32)            128       \n",
      "_________________________________________________________________\n",
      "conv1d_1 (Conv1D)            (None, 28, 32)            2080      \n",
      "_________________________________________________________________\n",
      "dropout_1 (Dropout)          (None, 28, 32)            0         \n",
      "_________________________________________________________________\n",
      "flatten (Flatten)            (None, 896)               0         \n",
      "_________________________________________________________________\n",
      "dropout_2 (Dropout)          (None, 896)               0         \n",
      "_________________________________________________________________\n",
      "dense (Dense)                (None, 32)                28704     \n",
      "_________________________________________________________________\n",
      "dropout_3 (Dropout)          (None, 32)                0         \n",
      "_________________________________________________________________\n",
      "dense_1 (Dense)              (None, 1)                 33        \n",
      "=================================================================\n",
      "Total params: 31,041\n",
      "Trainable params: 30,977\n",
      "Non-trainable params: 64\n",
      "_________________________________________________________________\n"
     ]
    },
    {
     "name": "stderr",
     "output_type": "stream",
     "text": [
      "2022-10-11 05:55:48.603878: I tensorflow/core/common_runtime/process_util.cc:146] Creating new thread pool with default inter op setting: 2. Tune using inter_op_parallelism_threads for best performance.\n"
     ]
    }
   ],
   "source": [
    "model = Sequential()\n",
    "model.add(Conv1D(32, 2, activation = \"relu\", input_shape = (30,1)))\n",
    "model.add(Dropout(0.1))\n",
    "model.add(BatchNormalization()) \n",
    "model.add(Conv1D(32, 2, activation = \"relu\"))\n",
    "model.add(Dropout(0.2))         \n",
    "model.add(Flatten())\n",
    "model.add(Dropout(0.4))\n",
    "model.add(Dense(32, activation = \"relu\"))\n",
    "model.add(Dropout(0.5))\n",
    "model.add(Dense(1, activation = \"sigmoid\"))\n",
    "\n",
    "model.summary()"
   ]
  },
  {
   "cell_type": "code",
   "execution_count": 14,
   "id": "dc8ac7de",
   "metadata": {
    "execution": {
     "iopub.execute_input": "2022-10-11T05:55:48.755570Z",
     "iopub.status.busy": "2022-10-11T05:55:48.755167Z",
     "iopub.status.idle": "2022-10-11T05:55:48.771509Z",
     "shell.execute_reply": "2022-10-11T05:55:48.770314Z"
    },
    "papermill": {
     "duration": 0.029512,
     "end_time": "2022-10-11T05:55:48.773951",
     "exception": false,
     "start_time": "2022-10-11T05:55:48.744439",
     "status": "completed"
    },
    "tags": []
   },
   "outputs": [
    {
     "name": "stderr",
     "output_type": "stream",
     "text": [
      "/opt/conda/lib/python3.7/site-packages/keras/optimizer_v2/optimizer_v2.py:356: UserWarning: The `lr` argument is deprecated, use `learning_rate` instead.\n",
      "  \"The `lr` argument is deprecated, use `learning_rate` instead.\")\n"
     ]
    }
   ],
   "source": [
    "model.compile(optimizer = Adam(lr=0.0001),loss = 'binary_crossentropy',metrics=['accuracy'])"
   ]
  },
  {
   "cell_type": "code",
   "execution_count": 15,
   "id": "ca9f9481",
   "metadata": {
    "execution": {
     "iopub.execute_input": "2022-10-11T05:55:48.795083Z",
     "iopub.status.busy": "2022-10-11T05:55:48.794741Z",
     "iopub.status.idle": "2022-10-11T05:55:53.833077Z",
     "shell.execute_reply": "2022-10-11T05:55:53.832052Z"
    },
    "papermill": {
     "duration": 5.051962,
     "end_time": "2022-10-11T05:55:53.835560",
     "exception": false,
     "start_time": "2022-10-11T05:55:48.783598",
     "status": "completed"
    },
    "tags": []
   },
   "outputs": [
    {
     "name": "stderr",
     "output_type": "stream",
     "text": [
      "2022-10-11 05:55:48.878678: I tensorflow/compiler/mlir/mlir_graph_optimization_pass.cc:185] None of the MLIR Optimization Passes are enabled (registered 2)\n"
     ]
    },
    {
     "name": "stdout",
     "output_type": "stream",
     "text": [
      "Epoch 1/20\n",
      "25/25 [==============================] - 2s 17ms/step - loss: 0.7260 - accuracy: 0.6074 - val_loss: 0.5412 - val_accuracy: 0.7817\n",
      "Epoch 2/20\n",
      "25/25 [==============================] - 0s 7ms/step - loss: 0.5740 - accuracy: 0.7001 - val_loss: 0.4564 - val_accuracy: 0.8629\n",
      "Epoch 3/20\n",
      "25/25 [==============================] - 0s 6ms/step - loss: 0.4967 - accuracy: 0.7738 - val_loss: 0.4006 - val_accuracy: 0.8782\n",
      "Epoch 4/20\n",
      "25/25 [==============================] - 0s 7ms/step - loss: 0.4485 - accuracy: 0.8056 - val_loss: 0.3578 - val_accuracy: 0.8934\n",
      "Epoch 5/20\n",
      "25/25 [==============================] - 0s 7ms/step - loss: 0.3959 - accuracy: 0.8335 - val_loss: 0.3234 - val_accuracy: 0.8985\n",
      "Epoch 6/20\n",
      "25/25 [==============================] - 0s 9ms/step - loss: 0.3635 - accuracy: 0.8628 - val_loss: 0.2962 - val_accuracy: 0.9086\n",
      "Epoch 7/20\n",
      "25/25 [==============================] - 0s 7ms/step - loss: 0.3440 - accuracy: 0.8780 - val_loss: 0.2751 - val_accuracy: 0.9137\n",
      "Epoch 8/20\n",
      "25/25 [==============================] - 0s 7ms/step - loss: 0.3162 - accuracy: 0.8882 - val_loss: 0.2573 - val_accuracy: 0.9137\n",
      "Epoch 9/20\n",
      "25/25 [==============================] - 0s 7ms/step - loss: 0.3185 - accuracy: 0.8793 - val_loss: 0.2426 - val_accuracy: 0.9137\n",
      "Epoch 10/20\n",
      "25/25 [==============================] - 0s 7ms/step - loss: 0.2828 - accuracy: 0.8920 - val_loss: 0.2319 - val_accuracy: 0.9137\n",
      "Epoch 11/20\n",
      "25/25 [==============================] - 0s 7ms/step - loss: 0.2931 - accuracy: 0.8958 - val_loss: 0.2260 - val_accuracy: 0.9137\n",
      "Epoch 12/20\n",
      "25/25 [==============================] - 0s 7ms/step - loss: 0.2831 - accuracy: 0.9022 - val_loss: 0.2200 - val_accuracy: 0.9086\n",
      "Epoch 13/20\n",
      "25/25 [==============================] - 0s 6ms/step - loss: 0.2689 - accuracy: 0.9123 - val_loss: 0.2137 - val_accuracy: 0.9137\n",
      "Epoch 14/20\n",
      "25/25 [==============================] - 0s 6ms/step - loss: 0.2573 - accuracy: 0.9034 - val_loss: 0.2088 - val_accuracy: 0.9137\n",
      "Epoch 15/20\n",
      "25/25 [==============================] - 0s 7ms/step - loss: 0.2690 - accuracy: 0.9034 - val_loss: 0.2045 - val_accuracy: 0.9137\n",
      "Epoch 16/20\n",
      "25/25 [==============================] - 0s 7ms/step - loss: 0.2525 - accuracy: 0.9022 - val_loss: 0.2020 - val_accuracy: 0.9188\n",
      "Epoch 17/20\n",
      "25/25 [==============================] - 0s 7ms/step - loss: 0.2692 - accuracy: 0.9034 - val_loss: 0.1994 - val_accuracy: 0.9188\n",
      "Epoch 18/20\n",
      "25/25 [==============================] - 0s 6ms/step - loss: 0.2492 - accuracy: 0.9098 - val_loss: 0.1962 - val_accuracy: 0.9188\n",
      "Epoch 19/20\n",
      "25/25 [==============================] - 0s 7ms/step - loss: 0.2564 - accuracy: 0.9136 - val_loss: 0.1931 - val_accuracy: 0.9239\n",
      "Epoch 20/20\n",
      "25/25 [==============================] - 0s 7ms/step - loss: 0.2380 - accuracy: 0.9174 - val_loss: 0.1908 - val_accuracy: 0.9289\n"
     ]
    }
   ],
   "source": [
    "history = model.fit(features_train, labels_train, epochs = 20,\n",
    "                    validation_data = (features_test,labels_test),verbose = 1)"
   ]
  },
  {
   "cell_type": "code",
   "execution_count": 16,
   "id": "d0a6dcc7",
   "metadata": {
    "execution": {
     "iopub.execute_input": "2022-10-11T05:55:53.868817Z",
     "iopub.status.busy": "2022-10-11T05:55:53.868445Z",
     "iopub.status.idle": "2022-10-11T05:55:54.097087Z",
     "shell.execute_reply": "2022-10-11T05:55:54.096297Z"
    },
    "papermill": {
     "duration": 0.248354,
     "end_time": "2022-10-11T05:55:54.099260",
     "exception": false,
     "start_time": "2022-10-11T05:55:53.850906",
     "status": "completed"
    },
    "tags": []
   },
   "outputs": [
    {
     "data": {
      "image/png": "[encoded data removed]",
      "text/plain": [
       "<Figure size 432x288 with 1 Axes>"
      ]
     },
     "metadata": {
      "needs_background": "light"
     },
     "output_type": "display_data"
    }
   ],
   "source": [
    "epochs = [i + 1 for i in range(20)]\n",
    "\n",
    "line1, = plt.plot(epochs, history.history[\"accuracy\"], zorder = 0, label = \"Training Accuracy\")\n",
    "line2, = plt.plot(epochs, history.history[\"val_accuracy\"], zorder = 1, label = \"Validation Accuracy\")\n",
    "\n",
    "plt.legend(handles = [line1, line2])\n",
    "plt.xlabel(\"Epoch\")\n",
    "plt.ylabel(\"Accuracy\")\n",
    "plt.title(\"Accuracy Vs. Epoch\")\n",
    "plt.show()"
   ]
  },
  {
   "cell_type": "code",
   "execution_count": 17,
   "id": "5eebbf34",
   "metadata": {
    "execution": {
     "iopub.execute_input": "2022-10-11T05:55:54.133157Z",
     "iopub.status.busy": "2022-10-11T05:55:54.132476Z",
     "iopub.status.idle": "2022-10-11T05:55:54.349232Z",
     "shell.execute_reply": "2022-10-11T05:55:54.348461Z"
    },
    "papermill": {
     "duration": 0.236374,
     "end_time": "2022-10-11T05:55:54.351277",
     "exception": false,
     "start_time": "2022-10-11T05:55:54.114903",
     "status": "completed"
    },
    "tags": []
   },
   "outputs": [
    {
     "data": {
      "image/png": "[encoded data removed]",
      "text/plain": [
       "<Figure size 432x288 with 1 Axes>"
      ]
     },
     "metadata": {
      "needs_background": "light"
     },
     "output_type": "display_data"
    }
   ],
   "source": [
    "\n",
    "line1, = plt.plot(epochs, history.history[\"loss\"], zorder = 0, label = \"Training Loss\")\n",
    "line2, = plt.plot(epochs, history.history[\"val_loss\"], zorder = 1, label = \"Validation Loss\")\n",
    "\n",
    "plt.legend(handles = [line1, line2])\n",
    "plt.xlabel(\"Epoch\")\n",
    "plt.ylabel(\"Loss\")\n",
    "plt.title(\"Loss (Binary Cross-Entropy) Vs. Epoch\")\n",
    "plt.show()"
   ]
  },
  {
   "cell_type": "markdown",
   "id": "40eed52d",
   "metadata": {
    "papermill": {
     "duration": 0.015237,
     "end_time": "2022-10-11T05:55:54.381660",
     "exception": false,
     "start_time": "2022-10-11T05:55:54.366423",
     "status": "completed"
    },
    "tags": []
   },
   "source": [
    "### Model 2: I will use the same model, expect I will be changing the learning rate from 0.0001 to 0.0005:"
   ]
  },
  {
   "cell_type": "code",
   "execution_count": 18,
   "id": "c2b248d8",
   "metadata": {
    "execution": {
     "iopub.execute_input": "2022-10-11T05:55:54.413509Z",
     "iopub.status.busy": "2022-10-11T05:55:54.413091Z",
     "iopub.status.idle": "2022-10-11T05:55:54.488825Z",
     "shell.execute_reply": "2022-10-11T05:55:54.486996Z"
    },
    "papermill": {
     "duration": 0.095814,
     "end_time": "2022-10-11T05:55:54.492378",
     "exception": false,
     "start_time": "2022-10-11T05:55:54.396564",
     "status": "completed"
    },
    "tags": []
   },
   "outputs": [
    {
     "name": "stdout",
     "output_type": "stream",
     "text": [
      "Model: \"sequential_1\"\n",
      "_________________________________________________________________\n",
      "Layer (type)                 Output Shape              Param #   \n",
      "=================================================================\n",
      "conv1d_2 (Conv1D)            (None, 29, 32)            96        \n",
      "_________________________________________________________________\n",
      "dropout_4 (Dropout)          (None, 29, 32)            0         \n",
      "_________________________________________________________________\n",
      "batch_normalization_1 (Batch (None, 29, 32)            128       \n",
      "_________________________________________________________________\n",
      "conv1d_3 (Conv1D)            (None, 28, 32)            2080      \n",
      "_________________________________________________________________\n",
      "dropout_5 (Dropout)          (None, 28, 32)            0         \n",
      "_________________________________________________________________\n",
      "flatten_1 (Flatten)          (None, 896)               0         \n",
      "_________________________________________________________________\n",
      "dropout_6 (Dropout)          (None, 896)               0         \n",
      "_________________________________________________________________\n",
      "dense_2 (Dense)              (None, 32)                28704     \n",
      "_________________________________________________________________\n",
      "dropout_7 (Dropout)          (None, 32)                0         \n",
      "_________________________________________________________________\n",
      "dense_3 (Dense)              (None, 1)                 33        \n",
      "=================================================================\n",
      "Total params: 31,041\n",
      "Trainable params: 30,977\n",
      "Non-trainable params: 64\n",
      "_________________________________________________________________\n"
     ]
    }
   ],
   "source": [
    "model_2 = Sequential()\n",
    "model_2.add(Conv1D(32, 2, activation = \"relu\", input_shape = (30,1)))\n",
    "model_2.add(Dropout(0.1))\n",
    "model_2.add(BatchNormalization()) \n",
    "model_2.add(Conv1D(32, 2, activation = \"relu\"))\n",
    "model_2.add(Dropout(0.2))          \n",
    "model_2.add(Flatten())\n",
    "model_2.add(Dropout(0.4))\n",
    "model_2.add(Dense(32, activation = \"relu\"))\n",
    "model_2.add(Dropout(0.5))\n",
    "model_2.add(Dense(1, activation = \"sigmoid\"))\n",
    "\n",
    "model_2.summary()"
   ]
  },
  {
   "cell_type": "code",
   "execution_count": 19,
   "id": "db73c5ea",
   "metadata": {
    "execution": {
     "iopub.execute_input": "2022-10-11T05:55:54.526003Z",
     "iopub.status.busy": "2022-10-11T05:55:54.525631Z",
     "iopub.status.idle": "2022-10-11T05:55:59.148774Z",
     "shell.execute_reply": "2022-10-11T05:55:59.147477Z"
    },
    "papermill": {
     "duration": 4.642762,
     "end_time": "2022-10-11T05:55:59.151333",
     "exception": false,
     "start_time": "2022-10-11T05:55:54.508571",
     "status": "completed"
    },
    "tags": []
   },
   "outputs": [
    {
     "name": "stdout",
     "output_type": "stream",
     "text": [
      "Epoch 1/20\n",
      "25/25 [==============================] - 1s 15ms/step - loss: 0.5902 - accuracy: 0.6798 - val_loss: 0.4677 - val_accuracy: 0.8173\n",
      "Epoch 2/20\n",
      "25/25 [==============================] - 0s 7ms/step - loss: 0.3514 - accuracy: 0.8729 - val_loss: 0.3425 - val_accuracy: 0.9036\n",
      "Epoch 3/20\n",
      "25/25 [==============================] - 0s 7ms/step - loss: 0.2570 - accuracy: 0.9034 - val_loss: 0.2809 - val_accuracy: 0.9137\n",
      "Epoch 4/20\n",
      "25/25 [==============================] - 0s 7ms/step - loss: 0.2510 - accuracy: 0.9060 - val_loss: 0.2426 - val_accuracy: 0.9188\n",
      "Epoch 5/20\n",
      "25/25 [==============================] - 0s 7ms/step - loss: 0.2453 - accuracy: 0.9199 - val_loss: 0.2551 - val_accuracy: 0.9239\n",
      "Epoch 6/20\n",
      "25/25 [==============================] - 0s 7ms/step - loss: 0.2394 - accuracy: 0.9199 - val_loss: 0.2022 - val_accuracy: 0.9188\n",
      "Epoch 7/20\n",
      "25/25 [==============================] - 0s 7ms/step - loss: 0.2426 - accuracy: 0.9098 - val_loss: 0.2021 - val_accuracy: 0.9289\n",
      "Epoch 8/20\n",
      "25/25 [==============================] - 0s 7ms/step - loss: 0.2215 - accuracy: 0.9187 - val_loss: 0.1821 - val_accuracy: 0.9289\n",
      "Epoch 9/20\n",
      "25/25 [==============================] - 0s 7ms/step - loss: 0.2027 - accuracy: 0.9263 - val_loss: 0.1703 - val_accuracy: 0.9289\n",
      "Epoch 10/20\n",
      "25/25 [==============================] - 0s 7ms/step - loss: 0.2205 - accuracy: 0.9225 - val_loss: 0.1719 - val_accuracy: 0.9442\n",
      "Epoch 11/20\n",
      "25/25 [==============================] - 0s 7ms/step - loss: 0.1994 - accuracy: 0.9187 - val_loss: 0.1596 - val_accuracy: 0.9340\n",
      "Epoch 12/20\n",
      "25/25 [==============================] - 0s 7ms/step - loss: 0.2193 - accuracy: 0.9174 - val_loss: 0.1617 - val_accuracy: 0.9391\n",
      "Epoch 13/20\n",
      "25/25 [==============================] - 0s 7ms/step - loss: 0.1979 - accuracy: 0.9301 - val_loss: 0.1537 - val_accuracy: 0.9391\n",
      "Epoch 14/20\n",
      "25/25 [==============================] - 0s 7ms/step - loss: 0.2001 - accuracy: 0.9199 - val_loss: 0.1511 - val_accuracy: 0.9492\n",
      "Epoch 15/20\n",
      "25/25 [==============================] - 0s 7ms/step - loss: 0.1746 - accuracy: 0.9301 - val_loss: 0.1448 - val_accuracy: 0.9442\n",
      "Epoch 16/20\n",
      "25/25 [==============================] - 0s 7ms/step - loss: 0.1792 - accuracy: 0.9314 - val_loss: 0.1489 - val_accuracy: 0.9391\n",
      "Epoch 17/20\n",
      "25/25 [==============================] - 0s 7ms/step - loss: 0.1887 - accuracy: 0.9301 - val_loss: 0.1435 - val_accuracy: 0.9391\n",
      "Epoch 18/20\n",
      "25/25 [==============================] - 0s 6ms/step - loss: 0.1717 - accuracy: 0.9339 - val_loss: 0.1434 - val_accuracy: 0.9391\n",
      "Epoch 19/20\n",
      "25/25 [==============================] - 0s 6ms/step - loss: 0.1608 - accuracy: 0.9403 - val_loss: 0.1404 - val_accuracy: 0.9391\n",
      "Epoch 20/20\n",
      "25/25 [==============================] - 0s 7ms/step - loss: 0.1811 - accuracy: 0.9377 - val_loss: 0.1388 - val_accuracy: 0.9442\n"
     ]
    }
   ],
   "source": [
    "model_2.compile(optimizer = Adam(lr=0.0005),loss = 'binary_crossentropy',metrics=['accuracy'])\n",
    "\n",
    "\n",
    "history_2 = model_2.fit(features_train, labels_train, epochs = 20,\n",
    "                    validation_data = (features_test,labels_test),verbose = 1)"
   ]
  },
  {
   "cell_type": "code",
   "execution_count": 20,
   "id": "7b39c99d",
   "metadata": {
    "execution": {
     "iopub.execute_input": "2022-10-11T05:55:59.193988Z",
     "iopub.status.busy": "2022-10-11T05:55:59.193588Z",
     "iopub.status.idle": "2022-10-11T05:55:59.414734Z",
     "shell.execute_reply": "2022-10-11T05:55:59.413673Z"
    },
    "papermill": {
     "duration": 0.245366,
     "end_time": "2022-10-11T05:55:59.417123",
     "exception": false,
     "start_time": "2022-10-11T05:55:59.171757",
     "status": "completed"
    },
    "tags": []
   },
   "outputs": [
    {
     "data": {
      "image/png": "[encoded data removed]",
      "text/plain": [
       "<Figure size 432x288 with 1 Axes>"
      ]
     },
     "metadata": {
      "needs_background": "light"
     },
     "output_type": "display_data"
    }
   ],
   "source": [
    "epochs = [i + 1 for i in range(20)]\n",
    "\n",
    "line1, = plt.plot(epochs, history_2.history[\"accuracy\"], zorder = 0, label = \"Training Accuracy\")\n",
    "line2, = plt.plot(epochs, history_2.history[\"val_accuracy\"], zorder = 1, label = \"Validation Accuracy\")\n",
    "\n",
    "plt.legend(handles = [line1, line2])\n",
    "plt.xlabel(\"Epoch\")\n",
    "plt.ylabel(\"Accuracy\")\n",
    "plt.title(\"Accuracy Vs. Epoch\")\n",
    "plt.show()"
   ]
  },
  {
   "cell_type": "code",
   "execution_count": 21,
   "id": "f3fdfc77",
   "metadata": {
    "execution": {
     "iopub.execute_input": "2022-10-11T05:55:59.461017Z",
     "iopub.status.busy": "2022-10-11T05:55:59.460614Z",
     "iopub.status.idle": "2022-10-11T05:55:59.677807Z",
     "shell.execute_reply": "2022-10-11T05:55:59.676739Z"
    },
    "papermill": {
     "duration": 0.242016,
     "end_time": "2022-10-11T05:55:59.680399",
     "exception": false,
     "start_time": "2022-10-11T05:55:59.438383",
     "status": "completed"
    },
    "tags": []
   },
   "outputs": [
    {
     "data": {
      "image/png": "[encoded data removed]",
      "text/plain": [
       "<Figure size 432x288 with 1 Axes>"
      ]
     },
     "metadata": {
      "needs_background": "light"
     },
     "output_type": "display_data"
    }
   ],
   "source": [
    "line1, = plt.plot(epochs, history_2.history[\"loss\"], zorder = 0, label = \"Training Loss\")\n",
    "line2, = plt.plot(epochs, history_2.history[\"val_loss\"], zorder = 1, label = \"Validation Loss\")\n",
    "\n",
    "plt.legend(handles = [line1, line2])\n",
    "plt.xlabel(\"Epoch\")\n",
    "plt.ylabel(\"Loss\")\n",
    "plt.title(\"Loss (Binary Cross-Entropy) Vs. Epoch\")\n",
    "plt.show()"
   ]
  },
  {
   "cell_type": "markdown",
   "id": "3a23acd1",
   "metadata": {
    "papermill": {
     "duration": 0.021219,
     "end_time": "2022-10-11T05:55:59.723091",
     "exception": false,
     "start_time": "2022-10-11T05:55:59.701872",
     "status": "completed"
    },
    "tags": []
   },
   "source": [
    "### Model 3: adding an extra layer: the MaxPool Layer. "
   ]
  },
  {
   "cell_type": "code",
   "execution_count": 22,
   "id": "67b3a63b",
   "metadata": {
    "execution": {
     "iopub.execute_input": "2022-10-11T05:55:59.767397Z",
     "iopub.status.busy": "2022-10-11T05:55:59.766939Z",
     "iopub.status.idle": "2022-10-11T05:55:59.855704Z",
     "shell.execute_reply": "2022-10-11T05:55:59.854410Z"
    },
    "papermill": {
     "duration": 0.114735,
     "end_time": "2022-10-11T05:55:59.859072",
     "exception": false,
     "start_time": "2022-10-11T05:55:59.744337",
     "status": "completed"
    },
    "tags": []
   },
   "outputs": [
    {
     "name": "stdout",
     "output_type": "stream",
     "text": [
      "Model: \"sequential_2\"\n",
      "_________________________________________________________________\n",
      "Layer (type)                 Output Shape              Param #   \n",
      "=================================================================\n",
      "conv1d_4 (Conv1D)            (None, 29, 32)            96        \n",
      "_________________________________________________________________\n",
      "dropout_8 (Dropout)          (None, 29, 32)            0         \n",
      "_________________________________________________________________\n",
      "max_pooling1d (MaxPooling1D) (None, 14, 32)            0         \n",
      "_________________________________________________________________\n",
      "batch_normalization_2 (Batch (None, 14, 32)            128       \n",
      "_________________________________________________________________\n",
      "conv1d_5 (Conv1D)            (None, 13, 32)            2080      \n",
      "_________________________________________________________________\n",
      "dropout_9 (Dropout)          (None, 13, 32)            0         \n",
      "_________________________________________________________________\n",
      "max_pooling1d_1 (MaxPooling1 (None, 6, 32)             0         \n",
      "_________________________________________________________________\n",
      "flatten_2 (Flatten)          (None, 192)               0         \n",
      "_________________________________________________________________\n",
      "dropout_10 (Dropout)         (None, 192)               0         \n",
      "_________________________________________________________________\n",
      "dense_4 (Dense)              (None, 32)                6176      \n",
      "_________________________________________________________________\n",
      "dropout_11 (Dropout)         (None, 32)                0         \n",
      "_________________________________________________________________\n",
      "dense_5 (Dense)              (None, 1)                 33        \n",
      "=================================================================\n",
      "Total params: 8,513\n",
      "Trainable params: 8,449\n",
      "Non-trainable params: 64\n",
      "_________________________________________________________________\n"
     ]
    }
   ],
   "source": [
    "model_3 = Sequential()\n",
    "model_3.add(Conv1D(32, 2, activation = \"relu\", input_shape = (30,1)))\n",
    "model_3.add(Dropout(0.1))\n",
    "model_3.add(MaxPool1D(2))\n",
    "model_3.add(BatchNormalization()) \n",
    "model_3.add(Conv1D(32, 2, activation = \"relu\"))\n",
    "model_3.add(Dropout(0.2))          \n",
    "model_3.add(MaxPool1D(2))\n",
    "model_3.add(Flatten())\n",
    "model_3.add(Dropout(0.4))\n",
    "model_3.add(Dense(32, activation = \"relu\"))\n",
    "model_3.add(Dropout(0.5))\n",
    "model_3.add(Dense(1, activation = \"sigmoid\"))\n",
    "\n",
    "model_3.summary()"
   ]
  },
  {
   "cell_type": "code",
   "execution_count": 23,
   "id": "c7f502a3",
   "metadata": {
    "execution": {
     "iopub.execute_input": "2022-10-11T05:55:59.905095Z",
     "iopub.status.busy": "2022-10-11T05:55:59.904092Z",
     "iopub.status.idle": "2022-10-11T05:56:05.012512Z",
     "shell.execute_reply": "2022-10-11T05:56:05.011164Z"
    },
    "papermill": {
     "duration": 5.133107,
     "end_time": "2022-10-11T05:56:05.014956",
     "exception": false,
     "start_time": "2022-10-11T05:55:59.881849",
     "status": "completed"
    },
    "tags": []
   },
   "outputs": [
    {
     "name": "stdout",
     "output_type": "stream",
     "text": [
      "Epoch 1/20\n",
      "25/25 [==============================] - 2s 27ms/step - loss: 0.8857 - accuracy: 0.4651 - val_loss: 0.7348 - val_accuracy: 0.4518\n",
      "Epoch 2/20\n",
      "25/25 [==============================] - 0s 7ms/step - loss: 0.7759 - accuracy: 0.5527 - val_loss: 0.6392 - val_accuracy: 0.4975\n",
      "Epoch 3/20\n",
      "25/25 [==============================] - 0s 7ms/step - loss: 0.6926 - accuracy: 0.5997 - val_loss: 0.5805 - val_accuracy: 0.8274\n",
      "Epoch 4/20\n",
      "25/25 [==============================] - 0s 7ms/step - loss: 0.6476 - accuracy: 0.6353 - val_loss: 0.5355 - val_accuracy: 0.8629\n",
      "Epoch 5/20\n",
      "25/25 [==============================] - 0s 9ms/step - loss: 0.5925 - accuracy: 0.6658 - val_loss: 0.5039 - val_accuracy: 0.8731\n",
      "Epoch 6/20\n",
      "25/25 [==============================] - 0s 7ms/step - loss: 0.5717 - accuracy: 0.6849 - val_loss: 0.4690 - val_accuracy: 0.8832\n",
      "Epoch 7/20\n",
      "25/25 [==============================] - 0s 7ms/step - loss: 0.5227 - accuracy: 0.7306 - val_loss: 0.4388 - val_accuracy: 0.8832\n",
      "Epoch 8/20\n",
      "25/25 [==============================] - 0s 7ms/step - loss: 0.4823 - accuracy: 0.7738 - val_loss: 0.4140 - val_accuracy: 0.8883\n",
      "Epoch 9/20\n",
      "25/25 [==============================] - 0s 6ms/step - loss: 0.4814 - accuracy: 0.7802 - val_loss: 0.3917 - val_accuracy: 0.8985\n",
      "Epoch 10/20\n",
      "25/25 [==============================] - 0s 7ms/step - loss: 0.4715 - accuracy: 0.7878 - val_loss: 0.3732 - val_accuracy: 0.9036\n",
      "Epoch 11/20\n",
      "25/25 [==============================] - 0s 6ms/step - loss: 0.4381 - accuracy: 0.8119 - val_loss: 0.3563 - val_accuracy: 0.9036\n",
      "Epoch 12/20\n",
      "25/25 [==============================] - 0s 7ms/step - loss: 0.4060 - accuracy: 0.8335 - val_loss: 0.3393 - val_accuracy: 0.9086\n",
      "Epoch 13/20\n",
      "25/25 [==============================] - 0s 7ms/step - loss: 0.4274 - accuracy: 0.8132 - val_loss: 0.3245 - val_accuracy: 0.9086\n",
      "Epoch 14/20\n",
      "25/25 [==============================] - 0s 6ms/step - loss: 0.3731 - accuracy: 0.8513 - val_loss: 0.3116 - val_accuracy: 0.9137\n",
      "Epoch 15/20\n",
      "25/25 [==============================] - 0s 7ms/step - loss: 0.3765 - accuracy: 0.8412 - val_loss: 0.2989 - val_accuracy: 0.9188\n",
      "Epoch 16/20\n",
      "25/25 [==============================] - 0s 7ms/step - loss: 0.3832 - accuracy: 0.8297 - val_loss: 0.2890 - val_accuracy: 0.9188\n",
      "Epoch 17/20\n",
      "25/25 [==============================] - 0s 7ms/step - loss: 0.3565 - accuracy: 0.8513 - val_loss: 0.2802 - val_accuracy: 0.9188\n",
      "Epoch 18/20\n",
      "25/25 [==============================] - 0s 7ms/step - loss: 0.3584 - accuracy: 0.8564 - val_loss: 0.2718 - val_accuracy: 0.9188\n",
      "Epoch 19/20\n",
      "25/25 [==============================] - 0s 6ms/step - loss: 0.3510 - accuracy: 0.8551 - val_loss: 0.2642 - val_accuracy: 0.9188\n",
      "Epoch 20/20\n",
      "25/25 [==============================] - 0s 7ms/step - loss: 0.3306 - accuracy: 0.8780 - val_loss: 0.2581 - val_accuracy: 0.9188\n"
     ]
    }
   ],
   "source": [
    "model_3.compile(optimizer = Adam(lr=0.0001),loss = 'binary_crossentropy',metrics=['accuracy'])\n",
    "\n",
    "\n",
    "history_3 = model_3.fit(features_train, labels_train, epochs = 20,\n",
    "                    validation_data = (features_test,labels_test),verbose = 1)"
   ]
  },
  {
   "cell_type": "code",
   "execution_count": 24,
   "id": "b096a1bd",
   "metadata": {
    "execution": {
     "iopub.execute_input": "2022-10-11T05:56:05.068586Z",
     "iopub.status.busy": "2022-10-11T05:56:05.068046Z",
     "iopub.status.idle": "2022-10-11T05:56:05.284822Z",
     "shell.execute_reply": "2022-10-11T05:56:05.284054Z"
    },
    "papermill": {
     "duration": 0.24572,
     "end_time": "2022-10-11T05:56:05.286865",
     "exception": false,
     "start_time": "2022-10-11T05:56:05.041145",
     "status": "completed"
    },
    "tags": []
   },
   "outputs": [
    {
     "data": {
      "image/png": "[encoded data removed]",
      "text/plain": [
       "<Figure size 432x288 with 1 Axes>"
      ]
     },
     "metadata": {
      "needs_background": "light"
     },
     "output_type": "display_data"
    }
   ],
   "source": [
    "epochs = [i + 1 for i in range(20)]\n",
    "\n",
    "line1, = plt.plot(epochs, history_3.history[\"accuracy\"], zorder = 0, label = \"Training Accuracy\")\n",
    "line2, = plt.plot(epochs, history_3.history[\"val_accuracy\"], zorder = 1, label = \"Validation Accuracy\")\n",
    "\n",
    "plt.legend(handles = [line1, line2])\n",
    "plt.xlabel(\"Epoch\")\n",
    "plt.ylabel(\"Accuracy\")\n",
    "plt.title(\"Accuracy Vs. Epoch\")\n",
    "plt.show()"
   ]
  },
  {
   "cell_type": "code",
   "execution_count": 25,
   "id": "11d54c65",
   "metadata": {
    "execution": {
     "iopub.execute_input": "2022-10-11T05:56:05.340432Z",
     "iopub.status.busy": "2022-10-11T05:56:05.339765Z",
     "iopub.status.idle": "2022-10-11T05:56:05.566224Z",
     "shell.execute_reply": "2022-10-11T05:56:05.564935Z"
    },
    "papermill": {
     "duration": 0.256424,
     "end_time": "2022-10-11T05:56:05.568588",
     "exception": false,
     "start_time": "2022-10-11T05:56:05.312164",
     "status": "completed"
    },
    "tags": []
   },
   "outputs": [
    {
     "data": {
      "image/png": "[encoded data removed]",
      "text/plain": [
       "<Figure size 432x288 with 1 Axes>"
      ]
     },
     "metadata": {
      "needs_background": "light"
     },
     "output_type": "display_data"
    }
   ],
   "source": [
    "line1, = plt.plot(epochs, history_3.history[\"loss\"], zorder = 0, label = \"Training Loss\")\n",
    "line2, = plt.plot(epochs, history_3.history[\"val_loss\"], zorder = 1, label = \"Validation Loss\")\n",
    "\n",
    "plt.legend(handles = [line1, line2])\n",
    "plt.xlabel(\"Epoch\")\n",
    "plt.ylabel(\"Loss\")\n",
    "plt.title(\"Loss (Binary Cross-Entropy) Vs. Epoch\")\n",
    "plt.show()"
   ]
  },
  {
   "cell_type": "markdown",
   "id": "ce1836c7",
   "metadata": {
    "papermill": {
     "duration": 0.026277,
     "end_time": "2022-10-11T05:56:05.621812",
     "exception": false,
     "start_time": "2022-10-11T05:56:05.595535",
     "status": "completed"
    },
    "tags": []
   },
   "source": [
    "Out of all the three models, the 2nd model appeared to have the best results. The 1st model worked out relatively well, but adding the MaxPool layer to the 2rd model clearly had the opposite effect, and actually lowered the accuracy of the model. So, I went ahead and predicted the accuracy on the test set using Model #2: "
   ]
  },
  {
   "cell_type": "code",
   "execution_count": 26,
   "id": "c5528330",
   "metadata": {
    "execution": {
     "iopub.execute_input": "2022-10-11T05:56:05.677419Z",
     "iopub.status.busy": "2022-10-11T05:56:05.676993Z",
     "iopub.status.idle": "2022-10-11T05:56:05.787517Z",
     "shell.execute_reply": "2022-10-11T05:56:05.786432Z"
    },
    "papermill": {
     "duration": 0.141422,
     "end_time": "2022-10-11T05:56:05.789841",
     "exception": false,
     "start_time": "2022-10-11T05:56:05.648419",
     "status": "completed"
    },
    "tags": []
   },
   "outputs": [
    {
     "name": "stdout",
     "output_type": "stream",
     "text": [
      "25/25 [==============================] - 0s 2ms/step - loss: 0.1488 - accuracy: 0.9416\n"
     ]
    },
    {
     "data": {
      "text/plain": [
       "[0.14877083897590637, 0.9415501952171326]"
      ]
     },
     "execution_count": 26,
     "metadata": {},
     "output_type": "execute_result"
    }
   ],
   "source": [
    "accuracy = model_2.evaluate(features_train,labels_train)\n",
    "accuracy"
   ]
  },
  {
   "cell_type": "markdown",
   "id": "3b15c19f",
   "metadata": {
    "papermill": {
     "duration": 0.026421,
     "end_time": "2022-10-11T05:56:05.842347",
     "exception": false,
     "start_time": "2022-10-11T05:56:05.815926",
     "status": "completed"
    },
    "tags": []
   },
   "source": [
    "It appears that the accuracy of model with the test set data would be around 0.9479. "
   ]
  },
  {
   "cell_type": "markdown",
   "id": "b0a21497",
   "metadata": {
    "papermill": {
     "duration": 0.026537,
     "end_time": "2022-10-11T05:56:05.896410",
     "exception": false,
     "start_time": "2022-10-11T05:56:05.869873",
     "status": "completed"
    },
    "tags": []
   },
   "source": [
    "#### Results/Conclusion:\n",
    "\n",
    "I honestly was not sure how a CNN model would work. The only context I had used it in before was for image-based data. My original plan was to use a supervised-learning model, such as a KNN or a Logistic Regression. However, I am happy that I  decided to take an alternative approach, and it luckily resulted in a pretty good accuracy score."
   ]
  },
  {
   "cell_type": "markdown",
   "id": "2a071e6c",
   "metadata": {
    "papermill": {
     "duration": 0.026704,
     "end_time": "2022-10-11T05:56:05.949714",
     "exception": false,
     "start_time": "2022-10-11T05:56:05.923010",
     "status": "completed"
    },
    "tags": []
   },
   "source": []
  }
 ],
 "metadata": {
  "kernelspec": {
   "display_name": "Python 3",
   "language": "python",
   "name": "python3"
  },
  "language_info": {
   "codemirror_mode": {
    "name": "ipython",
    "version": 3
   },
   "file_extension": ".py",
   "mimetype": "text/x-python",
   "name": "python",
   "nbconvert_exporter": "python",
   "pygments_lexer": "ipython3",
   "version": "3.7.12"
  },
  "papermill": {
   "default_parameters": {},
   "duration": 41.180977,
   "end_time": "2022-10-11T05:56:08.897140",
   "environment_variables": {},
   "exception": null,
   "input_path": "__notebook__.ipynb",
   "output_path": "__notebook__.ipynb",
   "parameters": {},
   "start_time": "2022-10-11T05:55:27.716163",
   "version": "2.3.4"
  }
 },
 "nbformat": 4,
 "nbformat_minor": 5
}
