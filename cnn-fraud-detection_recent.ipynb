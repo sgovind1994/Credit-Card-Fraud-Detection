{
 "cells": [
  {
   "cell_type": "markdown",
   "id": "600645ad",
   "metadata": {
    "papermill": {
     "duration": 0.010305,
     "end_time": "2022-10-11T06:01:22.457735",
     "exception": false,
     "start_time": "2022-10-11T06:01:22.447430",
     "status": "completed"
    },
    "tags": []
   },
   "source": [
    "# Credit Card Fraud Detection"
   ]
  },
  {
   "cell_type": "markdown",
   "id": "f758da69",
   "metadata": {
    "papermill": {
     "duration": 0.008524,
     "end_time": "2022-10-11T06:01:22.475339",
     "exception": false,
     "start_time": "2022-10-11T06:01:22.466815",
     "status": "completed"
    },
    "tags": []
   },
   "source": [
    "## Data Source:\n",
    "\n",
    "The dataset has been collected and analysed during a research collaboration of Worldline and the Machine Learning Group (http://mlg.ulb.ac.be) of ULB (Université Libre de Bruxelles) on big data mining and fraud detection.\n",
    "\n",
    "There are 492 frauds out of 284,807 transactions\n",
    "\n",
    "Features:\n",
    "\n",
    "1) \"Amount\": value in dollars of the transaction\n",
    "\n",
    "2)\"Time: amount of time that passed from the time when the first transaction took place.\n",
    "\n",
    "3) Labels: Fraud = 1 , Not Fraud = 0\n",
    "\n"
   ]
  },
  {
   "cell_type": "code",
   "execution_count": 1,
   "id": "49685cb5",
   "metadata": {
    "_cell_guid": "b1076dfc-b9ad-4769-8c92-a6c4dae69d19",
    "_uuid": "8f2839f25d086af736a60e9eeb907d3b93b6e0e5",
    "execution": {
     "iopub.execute_input": "2022-10-11T06:01:22.495449Z",
     "iopub.status.busy": "2022-10-11T06:01:22.494969Z",
     "iopub.status.idle": "2022-10-11T06:01:30.102575Z",
     "shell.execute_reply": "2022-10-11T06:01:30.101651Z"
    },
    "papermill": {
     "duration": 7.621545,
     "end_time": "2022-10-11T06:01:30.105561",
     "exception": false,
     "start_time": "2022-10-11T06:01:22.484016",
     "status": "completed"
    },
    "tags": []
   },
   "outputs": [],
   "source": [
    "import pandas as pd\n",
    "import numpy as np\n",
    "import seaborn as sns\n",
    "import matplotlib.pyplot as plt \n",
    "import tensorflow as tf\n",
    "from tensorflow import keras\n",
    "from keras import Sequential\n",
    "from tensorflow.keras.optimizers import Adam\n",
    "from keras.layers import Flatten, Dense, Dropout, BatchNormalization\n",
    "from keras.layers import Conv1D, MaxPool1D\n",
    "from sklearn.model_selection import train_test_split\n",
    "from sklearn.preprocessing import StandardScaler\n",
    "from sklearn.metrics import confusion_matrix"
   ]
  },
  {
   "cell_type": "markdown",
   "id": "d3a5ec17",
   "metadata": {
    "papermill": {
     "duration": 0.008658,
     "end_time": "2022-10-11T06:01:30.123437",
     "exception": false,
     "start_time": "2022-10-11T06:01:30.114779",
     "status": "completed"
    },
    "tags": []
   },
   "source": [
    "#### Load the data:"
   ]
  },
  {
   "cell_type": "code",
   "execution_count": 2,
   "id": "9f0301e7",
   "metadata": {
    "execution": {
     "iopub.execute_input": "2022-10-11T06:01:30.143254Z",
     "iopub.status.busy": "2022-10-11T06:01:30.142266Z",
     "iopub.status.idle": "2022-10-11T06:01:34.874085Z",
     "shell.execute_reply": "2022-10-11T06:01:34.872824Z"
    },
    "papermill": {
     "duration": 4.744997,
     "end_time": "2022-10-11T06:01:34.877223",
     "exception": false,
     "start_time": "2022-10-11T06:01:30.132226",
     "status": "completed"
    },
    "tags": []
   },
   "outputs": [
    {
     "name": "stdout",
     "output_type": "stream",
     "text": [
      "<class 'pandas.core.frame.DataFrame'>\n",
      "RangeIndex: 284807 entries, 0 to 284806\n",
      "Data columns (total 31 columns):\n",
      " #   Column  Non-Null Count   Dtype  \n",
      "---  ------  --------------   -----  \n",
      " 0   Time    284807 non-null  float64\n",
      " 1   V1      284807 non-null  float64\n",
      " 2   V2      284807 non-null  float64\n",
      " 3   V3      284807 non-null  float64\n",
      " 4   V4      284807 non-null  float64\n",
      " 5   V5      284807 non-null  float64\n",
      " 6   V6      284807 non-null  float64\n",
      " 7   V7      284807 non-null  float64\n",
      " 8   V8      284807 non-null  float64\n",
      " 9   V9      284807 non-null  float64\n",
      " 10  V10     284807 non-null  float64\n",
      " 11  V11     284807 non-null  float64\n",
      " 12  V12     284807 non-null  float64\n",
      " 13  V13     284807 non-null  float64\n",
      " 14  V14     284807 non-null  float64\n",
      " 15  V15     284807 non-null  float64\n",
      " 16  V16     284807 non-null  float64\n",
      " 17  V17     284807 non-null  float64\n",
      " 18  V18     284807 non-null  float64\n",
      " 19  V19     284807 non-null  float64\n",
      " 20  V20     284807 non-null  float64\n",
      " 21  V21     284807 non-null  float64\n",
      " 22  V22     284807 non-null  float64\n",
      " 23  V23     284807 non-null  float64\n",
      " 24  V24     284807 non-null  float64\n",
      " 25  V25     284807 non-null  float64\n",
      " 26  V26     284807 non-null  float64\n",
      " 27  V27     284807 non-null  float64\n",
      " 28  V28     284807 non-null  float64\n",
      " 29  Amount  284807 non-null  float64\n",
      " 30  Class   284807 non-null  int64  \n",
      "dtypes: float64(30), int64(1)\n",
      "memory usage: 67.4 MB\n"
     ]
    }
   ],
   "source": [
    "cc = pd.read_csv(\"../input/creditcardfraud/creditcard.csv\")\n",
    "cc.info()"
   ]
  },
  {
   "cell_type": "markdown",
   "id": "9bf084a7",
   "metadata": {
    "papermill": {
     "duration": 0.008833,
     "end_time": "2022-10-11T06:01:34.897087",
     "exception": false,
     "start_time": "2022-10-11T06:01:34.888254",
     "status": "completed"
    },
    "tags": []
   },
   "source": [
    "#### Check for null values:"
   ]
  },
  {
   "cell_type": "code",
   "execution_count": 3,
   "id": "96ce302a",
   "metadata": {
    "execution": {
     "iopub.execute_input": "2022-10-11T06:01:34.916909Z",
     "iopub.status.busy": "2022-10-11T06:01:34.916468Z",
     "iopub.status.idle": "2022-10-11T06:01:34.947839Z",
     "shell.execute_reply": "2022-10-11T06:01:34.946656Z"
    },
    "papermill": {
     "duration": 0.04405,
     "end_time": "2022-10-11T06:01:34.950258",
     "exception": false,
     "start_time": "2022-10-11T06:01:34.906208",
     "status": "completed"
    },
    "tags": []
   },
   "outputs": [
    {
     "data": {
      "text/plain": [
       "Time      0\n",
       "V1        0\n",
       "V2        0\n",
       "V3        0\n",
       "V4        0\n",
       "V5        0\n",
       "V6        0\n",
       "V7        0\n",
       "V8        0\n",
       "V9        0\n",
       "V10       0\n",
       "V11       0\n",
       "V12       0\n",
       "V13       0\n",
       "V14       0\n",
       "V15       0\n",
       "V16       0\n",
       "V17       0\n",
       "V18       0\n",
       "V19       0\n",
       "V20       0\n",
       "V21       0\n",
       "V22       0\n",
       "V23       0\n",
       "V24       0\n",
       "V25       0\n",
       "V26       0\n",
       "V27       0\n",
       "V28       0\n",
       "Amount    0\n",
       "Class     0\n",
       "dtype: int64"
      ]
     },
     "execution_count": 3,
     "metadata": {},
     "output_type": "execute_result"
    }
   ],
   "source": [
    "cc.isnull().sum()"
   ]
  },
  {
   "cell_type": "code",
   "execution_count": 4,
   "id": "5a51d267",
   "metadata": {
    "execution": {
     "iopub.execute_input": "2022-10-11T06:01:34.970935Z",
     "iopub.status.busy": "2022-10-11T06:01:34.970504Z",
     "iopub.status.idle": "2022-10-11T06:01:35.192075Z",
     "shell.execute_reply": "2022-10-11T06:01:35.190956Z"
    },
    "papermill": {
     "duration": 0.234579,
     "end_time": "2022-10-11T06:01:35.194549",
     "exception": false,
     "start_time": "2022-10-11T06:01:34.959970",
     "status": "completed"
    },
    "tags": []
   },
   "outputs": [
    {
     "name": "stderr",
     "output_type": "stream",
     "text": [
      "/opt/conda/lib/python3.7/site-packages/seaborn/_decorators.py:43: FutureWarning: Pass the following variable as a keyword arg: x. From version 0.12, the only valid positional argument will be `data`, and passing other arguments without an explicit keyword will result in an error or misinterpretation.\n",
      "  FutureWarning\n"
     ]
    },
    {
     "data": {
      "image/png": "[encoded data removed]",
      "text/plain": [
       "<Figure size 432x360 with 1 Axes>"
      ]
     },
     "metadata": {
      "needs_background": "light"
     },
     "output_type": "display_data"
    }
   ],
   "source": [
    "x=cc.Class\n",
    "plt.figure(figsize = (6,5))\n",
    "sns.countplot(x, color = \"blue\")\n",
    "plt.show()"
   ]
  },
  {
   "cell_type": "markdown",
   "id": "81fa3f19",
   "metadata": {
    "papermill": {
     "duration": 0.009708,
     "end_time": "2022-10-11T06:01:35.214339",
     "exception": false,
     "start_time": "2022-10-11T06:01:35.204631",
     "status": "completed"
    },
    "tags": []
   },
   "source": [
    "We can clearly see that there is a large imbalance between the \"fraud\" and \"non-fraud\" data labels, so before moving forward with any analysis, we need to balance the data."
   ]
  },
  {
   "cell_type": "markdown",
   "id": "9f2d7351",
   "metadata": {
    "papermill": {
     "duration": 0.009079,
     "end_time": "2022-10-11T06:01:35.232914",
     "exception": false,
     "start_time": "2022-10-11T06:01:35.223835",
     "status": "completed"
    },
    "tags": []
   },
   "source": [
    "#### Balance the Data:"
   ]
  },
  {
   "cell_type": "code",
   "execution_count": 5,
   "id": "67bdb422",
   "metadata": {
    "execution": {
     "iopub.execute_input": "2022-10-11T06:01:35.253788Z",
     "iopub.status.busy": "2022-10-11T06:01:35.253343Z",
     "iopub.status.idle": "2022-10-11T06:01:35.313943Z",
     "shell.execute_reply": "2022-10-11T06:01:35.312727Z"
    },
    "papermill": {
     "duration": 0.073745,
     "end_time": "2022-10-11T06:01:35.316253",
     "exception": false,
     "start_time": "2022-10-11T06:01:35.242508",
     "status": "completed"
    },
    "tags": []
   },
   "outputs": [
    {
     "data": {
      "text/plain": [
       "((284315, 31), (492, 31))"
      ]
     },
     "execution_count": 5,
     "metadata": {},
     "output_type": "execute_result"
    }
   ],
   "source": [
    "fair_data = cc[cc['Class']==0]\n",
    "fraud_data = cc[cc['Class']==1]\n",
    "fair_data.shape, fraud_data.shape"
   ]
  },
  {
   "cell_type": "code",
   "execution_count": 6,
   "id": "804bf51d",
   "metadata": {
    "execution": {
     "iopub.execute_input": "2022-10-11T06:01:35.337916Z",
     "iopub.status.busy": "2022-10-11T06:01:35.336759Z",
     "iopub.status.idle": "2022-10-11T06:01:35.351439Z",
     "shell.execute_reply": "2022-10-11T06:01:35.350179Z"
    },
    "papermill": {
     "duration": 0.028227,
     "end_time": "2022-10-11T06:01:35.354064",
     "exception": false,
     "start_time": "2022-10-11T06:01:35.325837",
     "status": "completed"
    },
    "tags": []
   },
   "outputs": [],
   "source": [
    "fair_data_1 = fair_data.sample(fraud_data.shape[0])\n"
   ]
  },
  {
   "cell_type": "code",
   "execution_count": 7,
   "id": "a6a2bf4a",
   "metadata": {
    "execution": {
     "iopub.execute_input": "2022-10-11T06:01:35.375615Z",
     "iopub.status.busy": "2022-10-11T06:01:35.374711Z",
     "iopub.status.idle": "2022-10-11T06:01:35.384846Z",
     "shell.execute_reply": "2022-10-11T06:01:35.383798Z"
    },
    "papermill": {
     "duration": 0.023307,
     "end_time": "2022-10-11T06:01:35.387108",
     "exception": false,
     "start_time": "2022-10-11T06:01:35.363801",
     "status": "completed"
    },
    "tags": []
   },
   "outputs": [
    {
     "data": {
      "text/plain": [
       "1    492\n",
       "0    492\n",
       "Name: Class, dtype: int64"
      ]
     },
     "execution_count": 7,
     "metadata": {},
     "output_type": "execute_result"
    }
   ],
   "source": [
    "bal_data = fraud_data.append(fair_data_1,ignore_index = True) \n",
    "bal_data['Class'].value_counts()"
   ]
  },
  {
   "cell_type": "code",
   "execution_count": 8,
   "id": "b9109e49",
   "metadata": {
    "execution": {
     "iopub.execute_input": "2022-10-11T06:01:35.408946Z",
     "iopub.status.busy": "2022-10-11T06:01:35.408529Z",
     "iopub.status.idle": "2022-10-11T06:01:35.415234Z",
     "shell.execute_reply": "2022-10-11T06:01:35.414027Z"
    },
    "papermill": {
     "duration": 0.020741,
     "end_time": "2022-10-11T06:01:35.417703",
     "exception": false,
     "start_time": "2022-10-11T06:01:35.396962",
     "status": "completed"
    },
    "tags": []
   },
   "outputs": [],
   "source": [
    "features = bal_data.drop('Class',axis=1)\n",
    "labels = bal_data['Class']"
   ]
  },
  {
   "cell_type": "markdown",
   "id": "fdb4b998",
   "metadata": {
    "papermill": {
     "duration": 0.009239,
     "end_time": "2022-10-11T06:01:35.436607",
     "exception": false,
     "start_time": "2022-10-11T06:01:35.427368",
     "status": "completed"
    },
    "tags": []
   },
   "source": [
    "#### Split the data into training/test:"
   ]
  },
  {
   "cell_type": "code",
   "execution_count": 9,
   "id": "510030e2",
   "metadata": {
    "execution": {
     "iopub.execute_input": "2022-10-11T06:01:35.457951Z",
     "iopub.status.busy": "2022-10-11T06:01:35.457129Z",
     "iopub.status.idle": "2022-10-11T06:01:35.465664Z",
     "shell.execute_reply": "2022-10-11T06:01:35.464550Z"
    },
    "papermill": {
     "duration": 0.021903,
     "end_time": "2022-10-11T06:01:35.468170",
     "exception": false,
     "start_time": "2022-10-11T06:01:35.446267",
     "status": "completed"
    },
    "tags": []
   },
   "outputs": [],
   "source": [
    "features_train,features_test,labels_train,labels_test = train_test_split(features,labels,test_size=.20,random_state=41,stratify = labels)"
   ]
  },
  {
   "cell_type": "markdown",
   "id": "088de6e3",
   "metadata": {
    "papermill": {
     "duration": 0.009396,
     "end_time": "2022-10-11T06:01:35.487332",
     "exception": false,
     "start_time": "2022-10-11T06:01:35.477936",
     "status": "completed"
    },
    "tags": []
   },
   "source": [
    "I decided to do something different and construct a CNN model for this project. I know that normally a CNN model would not be used in this context, but I thought it would be interesting to have to transform the data and see how a CNN model would work. Given this, before constructing the model, the data needs to be transformed from 2D to 3D:"
   ]
  },
  {
   "cell_type": "code",
   "execution_count": 10,
   "id": "3bff2bcb",
   "metadata": {
    "execution": {
     "iopub.execute_input": "2022-10-11T06:01:35.508948Z",
     "iopub.status.busy": "2022-10-11T06:01:35.508539Z",
     "iopub.status.idle": "2022-10-11T06:01:35.523446Z",
     "shell.execute_reply": "2022-10-11T06:01:35.522455Z"
    },
    "papermill": {
     "duration": 0.029198,
     "end_time": "2022-10-11T06:01:35.526282",
     "exception": false,
     "start_time": "2022-10-11T06:01:35.497084",
     "status": "completed"
    },
    "tags": []
   },
   "outputs": [],
   "source": [
    "scaler = StandardScaler()\n",
    "features_train_1 = scaler.fit_transform(features_train)\n",
    "features_test_1 = scaler.fit_transform(features_test)\n",
    "\n",
    "\n",
    "features_train = pd.DataFrame(features_train)\n",
    "features_test = pd.DataFrame(features_test)"
   ]
  },
  {
   "cell_type": "code",
   "execution_count": 11,
   "id": "23c9bcc3",
   "metadata": {
    "execution": {
     "iopub.execute_input": "2022-10-11T06:01:35.547750Z",
     "iopub.status.busy": "2022-10-11T06:01:35.547347Z",
     "iopub.status.idle": "2022-10-11T06:01:35.552287Z",
     "shell.execute_reply": "2022-10-11T06:01:35.551184Z"
    },
    "papermill": {
     "duration": 0.018495,
     "end_time": "2022-10-11T06:01:35.554658",
     "exception": false,
     "start_time": "2022-10-11T06:01:35.536163",
     "status": "completed"
    },
    "tags": []
   },
   "outputs": [],
   "source": [
    "features_train = features_train.to_numpy()\n",
    "features_test = features_test.to_numpy()"
   ]
  },
  {
   "cell_type": "code",
   "execution_count": 12,
   "id": "70c1c75f",
   "metadata": {
    "execution": {
     "iopub.execute_input": "2022-10-11T06:01:35.576222Z",
     "iopub.status.busy": "2022-10-11T06:01:35.575706Z",
     "iopub.status.idle": "2022-10-11T06:01:35.584474Z",
     "shell.execute_reply": "2022-10-11T06:01:35.583468Z"
    },
    "papermill": {
     "duration": 0.02217,
     "end_time": "2022-10-11T06:01:35.586612",
     "exception": false,
     "start_time": "2022-10-11T06:01:35.564442",
     "status": "completed"
    },
    "tags": []
   },
   "outputs": [
    {
     "data": {
      "text/plain": [
       "((787, 30, 1), (197, 30, 1))"
      ]
     },
     "execution_count": 12,
     "metadata": {},
     "output_type": "execute_result"
    }
   ],
   "source": [
    "features_train = features_train.reshape(features_train.shape[0],features_train.shape[1],1)\n",
    "features_test = features_test.reshape(features_test.shape[0],features_test.shape[1],1)\n",
    "\n",
    "features_train.shape, features_test.shape"
   ]
  },
  {
   "cell_type": "markdown",
   "id": "afbbcbd9",
   "metadata": {
    "papermill": {
     "duration": 0.009533,
     "end_time": "2022-10-11T06:01:35.605988",
     "exception": false,
     "start_time": "2022-10-11T06:01:35.596455",
     "status": "completed"
    },
    "tags": []
   },
   "source": [
    "## Modeling:\n"
   ]
  },
  {
   "cell_type": "markdown",
   "id": "52503725",
   "metadata": {
    "papermill": {
     "duration": 0.00935,
     "end_time": "2022-10-11T06:01:35.625273",
     "exception": false,
     "start_time": "2022-10-11T06:01:35.615923",
     "status": "completed"
    },
    "tags": []
   },
   "source": [
    "### Model 1: Basic Convolutional Neural Network Model (CNN)"
   ]
  },
  {
   "cell_type": "code",
   "execution_count": 13,
   "id": "92056d6c",
   "metadata": {
    "execution": {
     "iopub.execute_input": "2022-10-11T06:01:35.646404Z",
     "iopub.status.busy": "2022-10-11T06:01:35.645985Z",
     "iopub.status.idle": "2022-10-11T06:01:35.841591Z",
     "shell.execute_reply": "2022-10-11T06:01:35.839899Z"
    },
    "papermill": {
     "duration": 0.210359,
     "end_time": "2022-10-11T06:01:35.845346",
     "exception": false,
     "start_time": "2022-10-11T06:01:35.634987",
     "status": "completed"
    },
    "tags": []
   },
   "outputs": [
    {
     "name": "stdout",
     "output_type": "stream",
     "text": [
      "Model: \"sequential\"\n",
      "_________________________________________________________________\n",
      "Layer (type)                 Output Shape              Param #   \n",
      "=================================================================\n",
      "conv1d (Conv1D)              (None, 29, 32)            96        \n",
      "_________________________________________________________________\n",
      "dropout (Dropout)            (None, 29, 32)            0         \n",
      "_________________________________________________________________\n",
      "batch_normalization (BatchNo (None, 29, 32)            128       \n",
      "_________________________________________________________________\n",
      "conv1d_1 (Conv1D)            (None, 28, 32)            2080      \n",
      "_________________________________________________________________\n",
      "dropout_1 (Dropout)          (None, 28, 32)            0         \n",
      "_________________________________________________________________\n",
      "flatten (Flatten)            (None, 896)               0         \n",
      "_________________________________________________________________\n",
      "dropout_2 (Dropout)          (None, 896)               0         \n",
      "_________________________________________________________________\n",
      "dense (Dense)                (None, 32)                28704     \n",
      "_________________________________________________________________\n",
      "dropout_3 (Dropout)          (None, 32)                0         \n",
      "_________________________________________________________________\n",
      "dense_1 (Dense)              (None, 1)                 33        \n",
      "=================================================================\n",
      "Total params: 31,041\n",
      "Trainable params: 30,977\n",
      "Non-trainable params: 64\n",
      "_________________________________________________________________\n"
     ]
    },
    {
     "name": "stderr",
     "output_type": "stream",
     "text": [
      "2022-10-11 06:01:35.693092: I tensorflow/core/common_runtime/process_util.cc:146] Creating new thread pool with default inter op setting: 2. Tune using inter_op_parallelism_threads for best performance.\n"
     ]
    }
   ],
   "source": [
    "model = Sequential()\n",
    "model.add(Conv1D(32, 2, activation = \"relu\", input_shape = (30,1)))\n",
    "model.add(Dropout(0.1))\n",
    "model.add(BatchNormalization()) \n",
    "model.add(Conv1D(32, 2, activation = \"relu\"))\n",
    "model.add(Dropout(0.2))         \n",
    "model.add(Flatten())\n",
    "model.add(Dropout(0.4))\n",
    "model.add(Dense(32, activation = \"relu\"))\n",
    "model.add(Dropout(0.5))\n",
    "model.add(Dense(1, activation = \"sigmoid\"))\n",
    "\n",
    "model.summary()"
   ]
  },
  {
   "cell_type": "code",
   "execution_count": 14,
   "id": "9a85d9e9",
   "metadata": {
    "execution": {
     "iopub.execute_input": "2022-10-11T06:01:35.868295Z",
     "iopub.status.busy": "2022-10-11T06:01:35.867351Z",
     "iopub.status.idle": "2022-10-11T06:01:35.885697Z",
     "shell.execute_reply": "2022-10-11T06:01:35.884465Z"
    },
    "papermill": {
     "duration": 0.032811,
     "end_time": "2022-10-11T06:01:35.888714",
     "exception": false,
     "start_time": "2022-10-11T06:01:35.855903",
     "status": "completed"
    },
    "tags": []
   },
   "outputs": [
    {
     "name": "stderr",
     "output_type": "stream",
     "text": [
      "/opt/conda/lib/python3.7/site-packages/keras/optimizer_v2/optimizer_v2.py:356: UserWarning: The `lr` argument is deprecated, use `learning_rate` instead.\n",
      "  \"The `lr` argument is deprecated, use `learning_rate` instead.\")\n"
     ]
    }
   ],
   "source": [
    "model.compile(optimizer = Adam(lr=0.0001),loss = 'binary_crossentropy',metrics=['accuracy'])"
   ]
  },
  {
   "cell_type": "code",
   "execution_count": 15,
   "id": "0a71cb1a",
   "metadata": {
    "execution": {
     "iopub.execute_input": "2022-10-11T06:01:35.912166Z",
     "iopub.status.busy": "2022-10-11T06:01:35.910951Z",
     "iopub.status.idle": "2022-10-11T06:01:41.339302Z",
     "shell.execute_reply": "2022-10-11T06:01:41.338196Z"
    },
    "papermill": {
     "duration": 5.442584,
     "end_time": "2022-10-11T06:01:41.341897",
     "exception": false,
     "start_time": "2022-10-11T06:01:35.899313",
     "status": "completed"
    },
    "tags": []
   },
   "outputs": [
    {
     "name": "stderr",
     "output_type": "stream",
     "text": [
      "2022-10-11 06:01:35.996540: I tensorflow/compiler/mlir/mlir_graph_optimization_pass.cc:185] None of the MLIR Optimization Passes are enabled (registered 2)\n"
     ]
    },
    {
     "name": "stdout",
     "output_type": "stream",
     "text": [
      "Epoch 1/20\n",
      "25/25 [==============================] - 2s 18ms/step - loss: 0.8349 - accuracy: 0.5769 - val_loss: 0.5929 - val_accuracy: 0.7157\n",
      "Epoch 2/20\n",
      "25/25 [==============================] - 0s 7ms/step - loss: 0.6168 - accuracy: 0.6633 - val_loss: 0.4602 - val_accuracy: 0.8426\n",
      "Epoch 3/20\n",
      "25/25 [==============================] - 0s 7ms/step - loss: 0.5296 - accuracy: 0.7319 - val_loss: 0.4047 - val_accuracy: 0.8934\n",
      "Epoch 4/20\n",
      "25/25 [==============================] - 0s 7ms/step - loss: 0.4867 - accuracy: 0.7891 - val_loss: 0.3600 - val_accuracy: 0.9036\n",
      "Epoch 5/20\n",
      "25/25 [==============================] - 0s 7ms/step - loss: 0.4287 - accuracy: 0.8310 - val_loss: 0.3273 - val_accuracy: 0.9137\n",
      "Epoch 6/20\n",
      "25/25 [==============================] - 0s 7ms/step - loss: 0.4143 - accuracy: 0.8348 - val_loss: 0.2980 - val_accuracy: 0.9188\n",
      "Epoch 7/20\n",
      "25/25 [==============================] - 0s 7ms/step - loss: 0.3735 - accuracy: 0.8488 - val_loss: 0.2749 - val_accuracy: 0.9188\n",
      "Epoch 8/20\n",
      "25/25 [==============================] - 0s 7ms/step - loss: 0.3807 - accuracy: 0.8602 - val_loss: 0.2576 - val_accuracy: 0.9289\n",
      "Epoch 9/20\n",
      "25/25 [==============================] - 0s 8ms/step - loss: 0.3266 - accuracy: 0.8653 - val_loss: 0.2418 - val_accuracy: 0.9289\n",
      "Epoch 10/20\n",
      "25/25 [==============================] - 0s 7ms/step - loss: 0.3642 - accuracy: 0.8653 - val_loss: 0.2297 - val_accuracy: 0.9289\n",
      "Epoch 11/20\n",
      "25/25 [==============================] - 0s 7ms/step - loss: 0.3401 - accuracy: 0.8755 - val_loss: 0.2211 - val_accuracy: 0.9289\n",
      "Epoch 12/20\n",
      "25/25 [==============================] - 0s 7ms/step - loss: 0.3119 - accuracy: 0.8780 - val_loss: 0.2144 - val_accuracy: 0.9289\n",
      "Epoch 13/20\n",
      "25/25 [==============================] - 0s 7ms/step - loss: 0.3193 - accuracy: 0.8882 - val_loss: 0.2067 - val_accuracy: 0.9289\n",
      "Epoch 14/20\n",
      "25/25 [==============================] - 0s 7ms/step - loss: 0.3090 - accuracy: 0.8818 - val_loss: 0.2012 - val_accuracy: 0.9289\n",
      "Epoch 15/20\n",
      "25/25 [==============================] - 0s 7ms/step - loss: 0.3015 - accuracy: 0.8780 - val_loss: 0.1961 - val_accuracy: 0.9289\n",
      "Epoch 16/20\n",
      "25/25 [==============================] - 0s 7ms/step - loss: 0.2923 - accuracy: 0.8793 - val_loss: 0.1913 - val_accuracy: 0.9289\n",
      "Epoch 17/20\n",
      "25/25 [==============================] - 0s 7ms/step - loss: 0.2689 - accuracy: 0.9034 - val_loss: 0.1881 - val_accuracy: 0.9289\n",
      "Epoch 18/20\n",
      "25/25 [==============================] - 0s 8ms/step - loss: 0.2549 - accuracy: 0.9034 - val_loss: 0.1844 - val_accuracy: 0.9289\n",
      "Epoch 19/20\n",
      "25/25 [==============================] - 0s 8ms/step - loss: 0.2936 - accuracy: 0.8920 - val_loss: 0.1816 - val_accuracy: 0.9340\n",
      "Epoch 20/20\n",
      "25/25 [==============================] - 0s 8ms/step - loss: 0.2690 - accuracy: 0.9009 - val_loss: 0.1797 - val_accuracy: 0.9340\n"
     ]
    }
   ],
   "source": [
    "history = model.fit(features_train, labels_train, epochs = 20,\n",
    "                    validation_data = (features_test,labels_test),verbose = 1)"
   ]
  },
  {
   "cell_type": "code",
   "execution_count": 16,
   "id": "5b27131f",
   "metadata": {
    "execution": {
     "iopub.execute_input": "2022-10-11T06:01:41.374609Z",
     "iopub.status.busy": "2022-10-11T06:01:41.374159Z",
     "iopub.status.idle": "2022-10-11T06:01:41.617919Z",
     "shell.execute_reply": "2022-10-11T06:01:41.616813Z"
    },
    "papermill": {
     "duration": 0.262627,
     "end_time": "2022-10-11T06:01:41.620386",
     "exception": false,
     "start_time": "2022-10-11T06:01:41.357759",
     "status": "completed"
    },
    "tags": []
   },
   "outputs": [
    {
     "data": {
      "image/png": "[encoded data removed]",
      "text/plain": [
       "<Figure size 432x288 with 1 Axes>"
      ]
     },
     "metadata": {
      "needs_background": "light"
     },
     "output_type": "display_data"
    }
   ],
   "source": [
    "epochs = [i + 1 for i in range(20)]\n",
    "\n",
    "line1, = plt.plot(epochs, history.history[\"accuracy\"], zorder = 0, label = \"Training Accuracy\")\n",
    "line2, = plt.plot(epochs, history.history[\"val_accuracy\"], zorder = 1, label = \"Validation Accuracy\")\n",
    "\n",
    "plt.legend(handles = [line1, line2])\n",
    "plt.xlabel(\"Epoch\")\n",
    "plt.ylabel(\"Accuracy\")\n",
    "plt.title(\"Accuracy Vs. Epoch\")\n",
    "plt.show()"
   ]
  },
  {
   "cell_type": "code",
   "execution_count": 17,
   "id": "a2a79758",
   "metadata": {
    "execution": {
     "iopub.execute_input": "2022-10-11T06:01:41.654148Z",
     "iopub.status.busy": "2022-10-11T06:01:41.653726Z",
     "iopub.status.idle": "2022-10-11T06:01:41.886285Z",
     "shell.execute_reply": "2022-10-11T06:01:41.885027Z"
    },
    "papermill": {
     "duration": 0.251964,
     "end_time": "2022-10-11T06:01:41.888823",
     "exception": false,
     "start_time": "2022-10-11T06:01:41.636859",
     "status": "completed"
    },
    "tags": []
   },
   "outputs": [
    {
     "data": {
      "image/png": "[encoded data removed]",
      "text/plain": [
       "<Figure size 432x288 with 1 Axes>"
      ]
     },
     "metadata": {
      "needs_background": "light"
     },
     "output_type": "display_data"
    }
   ],
   "source": [
    "\n",
    "line1, = plt.plot(epochs, history.history[\"loss\"], zorder = 0, label = \"Training Loss\")\n",
    "line2, = plt.plot(epochs, history.history[\"val_loss\"], zorder = 1, label = \"Validation Loss\")\n",
    "\n",
    "plt.legend(handles = [line1, line2])\n",
    "plt.xlabel(\"Epoch\")\n",
    "plt.ylabel(\"Loss\")\n",
    "plt.title(\"Loss (Binary Cross-Entropy) Vs. Epoch\")\n",
    "plt.show()"
   ]
  },
  {
   "cell_type": "markdown",
   "id": "08e18d40",
   "metadata": {
    "papermill": {
     "duration": 0.016047,
     "end_time": "2022-10-11T06:01:41.921381",
     "exception": false,
     "start_time": "2022-10-11T06:01:41.905334",
     "status": "completed"
    },
    "tags": []
   },
   "source": [
    "### Model 2: I will use the same model, expect I will be changing the learning rate from 0.0001 to 0.0005:"
   ]
  },
  {
   "cell_type": "code",
   "execution_count": 18,
   "id": "ec37b299",
   "metadata": {
    "execution": {
     "iopub.execute_input": "2022-10-11T06:01:41.956085Z",
     "iopub.status.busy": "2022-10-11T06:01:41.955660Z",
     "iopub.status.idle": "2022-10-11T06:01:42.040882Z",
     "shell.execute_reply": "2022-10-11T06:01:42.039269Z"
    },
    "papermill": {
     "duration": 0.105873,
     "end_time": "2022-10-11T06:01:42.044082",
     "exception": false,
     "start_time": "2022-10-11T06:01:41.938209",
     "status": "completed"
    },
    "tags": []
   },
   "outputs": [
    {
     "name": "stdout",
     "output_type": "stream",
     "text": [
      "Model: \"sequential_1\"\n",
      "_________________________________________________________________\n",
      "Layer (type)                 Output Shape              Param #   \n",
      "=================================================================\n",
      "conv1d_2 (Conv1D)            (None, 29, 32)            96        \n",
      "_________________________________________________________________\n",
      "dropout_4 (Dropout)          (None, 29, 32)            0         \n",
      "_________________________________________________________________\n",
      "batch_normalization_1 (Batch (None, 29, 32)            128       \n",
      "_________________________________________________________________\n",
      "conv1d_3 (Conv1D)            (None, 28, 32)            2080      \n",
      "_________________________________________________________________\n",
      "dropout_5 (Dropout)          (None, 28, 32)            0         \n",
      "_________________________________________________________________\n",
      "flatten_1 (Flatten)          (None, 896)               0         \n",
      "_________________________________________________________________\n",
      "dropout_6 (Dropout)          (None, 896)               0         \n",
      "_________________________________________________________________\n",
      "dense_2 (Dense)              (None, 32)                28704     \n",
      "_________________________________________________________________\n",
      "dropout_7 (Dropout)          (None, 32)                0         \n",
      "_________________________________________________________________\n",
      "dense_3 (Dense)              (None, 1)                 33        \n",
      "=================================================================\n",
      "Total params: 31,041\n",
      "Trainable params: 30,977\n",
      "Non-trainable params: 64\n",
      "_________________________________________________________________\n"
     ]
    }
   ],
   "source": [
    "model_2 = Sequential()\n",
    "model_2.add(Conv1D(32, 2, activation = \"relu\", input_shape = (30,1)))\n",
    "model_2.add(Dropout(0.1))\n",
    "model_2.add(BatchNormalization()) \n",
    "model_2.add(Conv1D(32, 2, activation = \"relu\"))\n",
    "model_2.add(Dropout(0.2))          \n",
    "model_2.add(Flatten())\n",
    "model_2.add(Dropout(0.4))\n",
    "model_2.add(Dense(32, activation = \"relu\"))\n",
    "model_2.add(Dropout(0.5))\n",
    "model_2.add(Dense(1, activation = \"sigmoid\"))\n",
    "\n",
    "model_2.summary()"
   ]
  },
  {
   "cell_type": "code",
   "execution_count": 19,
   "id": "98a737ca",
   "metadata": {
    "execution": {
     "iopub.execute_input": "2022-10-11T06:01:42.078571Z",
     "iopub.status.busy": "2022-10-11T06:01:42.078052Z",
     "iopub.status.idle": "2022-10-11T06:01:47.314770Z",
     "shell.execute_reply": "2022-10-11T06:01:47.313083Z"
    },
    "papermill": {
     "duration": 5.257267,
     "end_time": "2022-10-11T06:01:47.317513",
     "exception": false,
     "start_time": "2022-10-11T06:01:42.060246",
     "status": "completed"
    },
    "tags": []
   },
   "outputs": [
    {
     "name": "stdout",
     "output_type": "stream",
     "text": [
      "Epoch 1/20\n",
      "25/25 [==============================] - 1s 17ms/step - loss: 0.5517 - accuracy: 0.7268 - val_loss: 0.4075 - val_accuracy: 0.9137\n",
      "Epoch 2/20\n",
      "25/25 [==============================] - 0s 8ms/step - loss: 0.3729 - accuracy: 0.8551 - val_loss: 0.3077 - val_accuracy: 0.8985\n",
      "Epoch 3/20\n",
      "25/25 [==============================] - 0s 8ms/step - loss: 0.3115 - accuracy: 0.8895 - val_loss: 0.2641 - val_accuracy: 0.9137\n",
      "Epoch 4/20\n",
      "25/25 [==============================] - 0s 8ms/step - loss: 0.2583 - accuracy: 0.9098 - val_loss: 0.2330 - val_accuracy: 0.9239\n",
      "Epoch 5/20\n",
      "25/25 [==============================] - 0s 8ms/step - loss: 0.2558 - accuracy: 0.9047 - val_loss: 0.2056 - val_accuracy: 0.9442\n",
      "Epoch 6/20\n",
      "25/25 [==============================] - 0s 8ms/step - loss: 0.2371 - accuracy: 0.9174 - val_loss: 0.1859 - val_accuracy: 0.9442\n",
      "Epoch 7/20\n",
      "25/25 [==============================] - 0s 8ms/step - loss: 0.2378 - accuracy: 0.9111 - val_loss: 0.1853 - val_accuracy: 0.9492\n",
      "Epoch 8/20\n",
      "25/25 [==============================] - 0s 7ms/step - loss: 0.2358 - accuracy: 0.8983 - val_loss: 0.1686 - val_accuracy: 0.9442\n",
      "Epoch 9/20\n",
      "25/25 [==============================] - 0s 10ms/step - loss: 0.2193 - accuracy: 0.9212 - val_loss: 0.1655 - val_accuracy: 0.9391\n",
      "Epoch 10/20\n",
      "25/25 [==============================] - 0s 8ms/step - loss: 0.2126 - accuracy: 0.9174 - val_loss: 0.1561 - val_accuracy: 0.9391\n",
      "Epoch 11/20\n",
      "25/25 [==============================] - 0s 8ms/step - loss: 0.2147 - accuracy: 0.9263 - val_loss: 0.1594 - val_accuracy: 0.9391\n",
      "Epoch 12/20\n",
      "25/25 [==============================] - 0s 8ms/step - loss: 0.2085 - accuracy: 0.9250 - val_loss: 0.1514 - val_accuracy: 0.9391\n",
      "Epoch 13/20\n",
      "25/25 [==============================] - 0s 7ms/step - loss: 0.1852 - accuracy: 0.9288 - val_loss: 0.1456 - val_accuracy: 0.9543\n",
      "Epoch 14/20\n",
      "25/25 [==============================] - 0s 8ms/step - loss: 0.2026 - accuracy: 0.9250 - val_loss: 0.1441 - val_accuracy: 0.9543\n",
      "Epoch 15/20\n",
      "25/25 [==============================] - 0s 8ms/step - loss: 0.2030 - accuracy: 0.9250 - val_loss: 0.1410 - val_accuracy: 0.9442\n",
      "Epoch 16/20\n",
      "25/25 [==============================] - 0s 7ms/step - loss: 0.1904 - accuracy: 0.9288 - val_loss: 0.1441 - val_accuracy: 0.9543\n",
      "Epoch 17/20\n",
      "25/25 [==============================] - 0s 7ms/step - loss: 0.1822 - accuracy: 0.9276 - val_loss: 0.1414 - val_accuracy: 0.9543\n",
      "Epoch 18/20\n",
      "25/25 [==============================] - 0s 8ms/step - loss: 0.1847 - accuracy: 0.9327 - val_loss: 0.1361 - val_accuracy: 0.9543\n",
      "Epoch 19/20\n",
      "25/25 [==============================] - 0s 8ms/step - loss: 0.1905 - accuracy: 0.9263 - val_loss: 0.1338 - val_accuracy: 0.9442\n",
      "Epoch 20/20\n",
      "25/25 [==============================] - 0s 8ms/step - loss: 0.1986 - accuracy: 0.9250 - val_loss: 0.1387 - val_accuracy: 0.9543\n"
     ]
    }
   ],
   "source": [
    "model_2.compile(optimizer = Adam(lr=0.0005),loss = 'binary_crossentropy',metrics=['accuracy'])\n",
    "\n",
    "\n",
    "history_2 = model_2.fit(features_train, labels_train, epochs = 20,\n",
    "                    validation_data = (features_test,labels_test),verbose = 1)"
   ]
  },
  {
   "cell_type": "code",
   "execution_count": 20,
   "id": "c4f59735",
   "metadata": {
    "execution": {
     "iopub.execute_input": "2022-10-11T06:01:47.362941Z",
     "iopub.status.busy": "2022-10-11T06:01:47.362514Z",
     "iopub.status.idle": "2022-10-11T06:01:47.594041Z",
     "shell.execute_reply": "2022-10-11T06:01:47.592637Z"
    },
    "papermill": {
     "duration": 0.256901,
     "end_time": "2022-10-11T06:01:47.596418",
     "exception": false,
     "start_time": "2022-10-11T06:01:47.339517",
     "status": "completed"
    },
    "tags": []
   },
   "outputs": [
    {
     "data": {
      "image/png": "[encoded data removed]",
      "text/plain": [
       "<Figure size 432x288 with 1 Axes>"
      ]
     },
     "metadata": {
      "needs_background": "light"
     },
     "output_type": "display_data"
    }
   ],
   "source": [
    "epochs = [i + 1 for i in range(20)]\n",
    "\n",
    "line1, = plt.plot(epochs, history_2.history[\"accuracy\"], zorder = 0, label = \"Training Accuracy\")\n",
    "line2, = plt.plot(epochs, history_2.history[\"val_accuracy\"], zorder = 1, label = \"Validation Accuracy\")\n",
    "\n",
    "plt.legend(handles = [line1, line2])\n",
    "plt.xlabel(\"Epoch\")\n",
    "plt.ylabel(\"Accuracy\")\n",
    "plt.title(\"Accuracy Vs. Epoch\")\n",
    "plt.show()"
   ]
  },
  {
   "cell_type": "code",
   "execution_count": 21,
   "id": "372bc714",
   "metadata": {
    "execution": {
     "iopub.execute_input": "2022-10-11T06:01:47.643547Z",
     "iopub.status.busy": "2022-10-11T06:01:47.642434Z",
     "iopub.status.idle": "2022-10-11T06:01:47.867496Z",
     "shell.execute_reply": "2022-10-11T06:01:47.866194Z"
    },
    "papermill": {
     "duration": 0.251654,
     "end_time": "2022-10-11T06:01:47.870147",
     "exception": false,
     "start_time": "2022-10-11T06:01:47.618493",
     "status": "completed"
    },
    "tags": []
   },
   "outputs": [
    {
     "data": {
      "image/png": "[encoded data removed]",
      "text/plain": [
       "<Figure size 432x288 with 1 Axes>"
      ]
     },
     "metadata": {
      "needs_background": "light"
     },
     "output_type": "display_data"
    }
   ],
   "source": [
    "line1, = plt.plot(epochs, history_2.history[\"loss\"], zorder = 0, label = \"Training Loss\")\n",
    "line2, = plt.plot(epochs, history_2.history[\"val_loss\"], zorder = 1, label = \"Validation Loss\")\n",
    "\n",
    "plt.legend(handles = [line1, line2])\n",
    "plt.xlabel(\"Epoch\")\n",
    "plt.ylabel(\"Loss\")\n",
    "plt.title(\"Loss (Binary Cross-Entropy) Vs. Epoch\")\n",
    "plt.show()"
   ]
  },
  {
   "cell_type": "markdown",
   "id": "d7209a05",
   "metadata": {
    "papermill": {
     "duration": 0.021901,
     "end_time": "2022-10-11T06:01:47.914748",
     "exception": false,
     "start_time": "2022-10-11T06:01:47.892847",
     "status": "completed"
    },
    "tags": []
   },
   "source": [
    "### Model 3: adding an extra layer: the MaxPool Layer. "
   ]
  },
  {
   "cell_type": "code",
   "execution_count": 22,
   "id": "0c4c6e59",
   "metadata": {
    "execution": {
     "iopub.execute_input": "2022-10-11T06:01:47.961118Z",
     "iopub.status.busy": "2022-10-11T06:01:47.960693Z",
     "iopub.status.idle": "2022-10-11T06:01:48.058097Z",
     "shell.execute_reply": "2022-10-11T06:01:48.056535Z"
    },
    "papermill": {
     "duration": 0.123719,
     "end_time": "2022-10-11T06:01:48.060723",
     "exception": false,
     "start_time": "2022-10-11T06:01:47.937004",
     "status": "completed"
    },
    "tags": []
   },
   "outputs": [
    {
     "name": "stdout",
     "output_type": "stream",
     "text": [
      "Model: \"sequential_2\"\n",
      "_________________________________________________________________\n",
      "Layer (type)                 Output Shape              Param #   \n",
      "=================================================================\n",
      "conv1d_4 (Conv1D)            (None, 29, 32)            96        \n",
      "_________________________________________________________________\n",
      "dropout_8 (Dropout)          (None, 29, 32)            0         \n",
      "_________________________________________________________________\n",
      "max_pooling1d (MaxPooling1D) (None, 14, 32)            0         \n",
      "_________________________________________________________________\n",
      "batch_normalization_2 (Batch (None, 14, 32)            128       \n",
      "_________________________________________________________________\n",
      "conv1d_5 (Conv1D)            (None, 13, 32)            2080      \n",
      "_________________________________________________________________\n",
      "dropout_9 (Dropout)          (None, 13, 32)            0         \n",
      "_________________________________________________________________\n",
      "max_pooling1d_1 (MaxPooling1 (None, 6, 32)             0         \n",
      "_________________________________________________________________\n",
      "flatten_2 (Flatten)          (None, 192)               0         \n",
      "_________________________________________________________________\n",
      "dropout_10 (Dropout)         (None, 192)               0         \n",
      "_________________________________________________________________\n",
      "dense_4 (Dense)              (None, 32)                6176      \n",
      "_________________________________________________________________\n",
      "dropout_11 (Dropout)         (None, 32)                0         \n",
      "_________________________________________________________________\n",
      "dense_5 (Dense)              (None, 1)                 33        \n",
      "=================================================================\n",
      "Total params: 8,513\n",
      "Trainable params: 8,449\n",
      "Non-trainable params: 64\n",
      "_________________________________________________________________\n"
     ]
    }
   ],
   "source": [
    "model_3 = Sequential()\n",
    "model_3.add(Conv1D(32, 2, activation = \"relu\", input_shape = (30,1)))\n",
    "model_3.add(Dropout(0.1))\n",
    "model_3.add(MaxPool1D(2))\n",
    "model_3.add(BatchNormalization()) \n",
    "model_3.add(Conv1D(32, 2, activation = \"relu\"))\n",
    "model_3.add(Dropout(0.2))          \n",
    "model_3.add(MaxPool1D(2))\n",
    "model_3.add(Flatten())\n",
    "model_3.add(Dropout(0.4))\n",
    "model_3.add(Dense(32, activation = \"relu\"))\n",
    "model_3.add(Dropout(0.5))\n",
    "model_3.add(Dense(1, activation = \"sigmoid\"))\n",
    "\n",
    "model_3.summary()"
   ]
  },
  {
   "cell_type": "code",
   "execution_count": 23,
   "id": "8ea8bc37",
   "metadata": {
    "execution": {
     "iopub.execute_input": "2022-10-11T06:01:48.107029Z",
     "iopub.status.busy": "2022-10-11T06:01:48.106577Z",
     "iopub.status.idle": "2022-10-11T06:01:53.412777Z",
     "shell.execute_reply": "2022-10-11T06:01:53.411425Z"
    },
    "papermill": {
     "duration": 5.333062,
     "end_time": "2022-10-11T06:01:53.416025",
     "exception": false,
     "start_time": "2022-10-11T06:01:48.082963",
     "status": "completed"
    },
    "tags": []
   },
   "outputs": [
    {
     "name": "stdout",
     "output_type": "stream",
     "text": [
      "Epoch 1/20\n",
      "25/25 [==============================] - 2s 27ms/step - loss: 0.7626 - accuracy: 0.6226 - val_loss: 0.4464 - val_accuracy: 0.8528\n",
      "Epoch 2/20\n",
      "25/25 [==============================] - 0s 8ms/step - loss: 0.6850 - accuracy: 0.6684 - val_loss: 0.4239 - val_accuracy: 0.8985\n",
      "Epoch 3/20\n",
      "25/25 [==============================] - 0s 7ms/step - loss: 0.6202 - accuracy: 0.7052 - val_loss: 0.4024 - val_accuracy: 0.9036\n",
      "Epoch 4/20\n",
      "25/25 [==============================] - 0s 7ms/step - loss: 0.6023 - accuracy: 0.7065 - val_loss: 0.3736 - val_accuracy: 0.9036\n",
      "Epoch 5/20\n",
      "25/25 [==============================] - 0s 7ms/step - loss: 0.5571 - accuracy: 0.7319 - val_loss: 0.3541 - val_accuracy: 0.9137\n",
      "Epoch 6/20\n",
      "25/25 [==============================] - 0s 7ms/step - loss: 0.5068 - accuracy: 0.7802 - val_loss: 0.3384 - val_accuracy: 0.9086\n",
      "Epoch 7/20\n",
      "25/25 [==============================] - 0s 7ms/step - loss: 0.4592 - accuracy: 0.7726 - val_loss: 0.3257 - val_accuracy: 0.9137\n",
      "Epoch 8/20\n",
      "25/25 [==============================] - 0s 8ms/step - loss: 0.4631 - accuracy: 0.7865 - val_loss: 0.3171 - val_accuracy: 0.9086\n",
      "Epoch 9/20\n",
      "25/25 [==============================] - 0s 7ms/step - loss: 0.4519 - accuracy: 0.8107 - val_loss: 0.3094 - val_accuracy: 0.9086\n",
      "Epoch 10/20\n",
      "25/25 [==============================] - 0s 7ms/step - loss: 0.4294 - accuracy: 0.8094 - val_loss: 0.3013 - val_accuracy: 0.9137\n",
      "Epoch 11/20\n",
      "25/25 [==============================] - 0s 7ms/step - loss: 0.4263 - accuracy: 0.7916 - val_loss: 0.2925 - val_accuracy: 0.9137\n",
      "Epoch 12/20\n",
      "25/25 [==============================] - 0s 8ms/step - loss: 0.4038 - accuracy: 0.8259 - val_loss: 0.2840 - val_accuracy: 0.9137\n",
      "Epoch 13/20\n",
      "25/25 [==============================] - 0s 7ms/step - loss: 0.3784 - accuracy: 0.8323 - val_loss: 0.2773 - val_accuracy: 0.9137\n",
      "Epoch 14/20\n",
      "25/25 [==============================] - 0s 7ms/step - loss: 0.3972 - accuracy: 0.8348 - val_loss: 0.2711 - val_accuracy: 0.9137\n",
      "Epoch 15/20\n",
      "25/25 [==============================] - 0s 7ms/step - loss: 0.3743 - accuracy: 0.8374 - val_loss: 0.2670 - val_accuracy: 0.9137\n",
      "Epoch 16/20\n",
      "25/25 [==============================] - 0s 7ms/step - loss: 0.3691 - accuracy: 0.8590 - val_loss: 0.2621 - val_accuracy: 0.9137\n",
      "Epoch 17/20\n",
      "25/25 [==============================] - 0s 7ms/step - loss: 0.3567 - accuracy: 0.8755 - val_loss: 0.2583 - val_accuracy: 0.9137\n",
      "Epoch 18/20\n",
      "25/25 [==============================] - 0s 8ms/step - loss: 0.3672 - accuracy: 0.8653 - val_loss: 0.2549 - val_accuracy: 0.9137\n",
      "Epoch 19/20\n",
      "25/25 [==============================] - 0s 7ms/step - loss: 0.3460 - accuracy: 0.8679 - val_loss: 0.2488 - val_accuracy: 0.9137\n",
      "Epoch 20/20\n",
      "25/25 [==============================] - 0s 7ms/step - loss: 0.3456 - accuracy: 0.8640 - val_loss: 0.2448 - val_accuracy: 0.9137\n"
     ]
    }
   ],
   "source": [
    "model_3.compile(optimizer = Adam(lr=0.0001),loss = 'binary_crossentropy',metrics=['accuracy'])\n",
    "\n",
    "\n",
    "history_3 = model_3.fit(features_train, labels_train, epochs = 20,\n",
    "                    validation_data = (features_test,labels_test),verbose = 1)"
   ]
  },
  {
   "cell_type": "code",
   "execution_count": 24,
   "id": "5d91f510",
   "metadata": {
    "execution": {
     "iopub.execute_input": "2022-10-11T06:01:53.473100Z",
     "iopub.status.busy": "2022-10-11T06:01:53.472687Z",
     "iopub.status.idle": "2022-10-11T06:01:53.708940Z",
     "shell.execute_reply": "2022-10-11T06:01:53.707735Z"
    },
    "papermill": {
     "duration": 0.26762,
     "end_time": "2022-10-11T06:01:53.711425",
     "exception": false,
     "start_time": "2022-10-11T06:01:53.443805",
     "status": "completed"
    },
    "tags": []
   },
   "outputs": [
    {
     "data": {
      "image/png": "[encoded data removed]",
      "text/plain": [
       "<Figure size 432x288 with 1 Axes>"
      ]
     },
     "metadata": {
      "needs_background": "light"
     },
     "output_type": "display_data"
    }
   ],
   "source": [
    "epochs = [i + 1 for i in range(20)]\n",
    "\n",
    "line1, = plt.plot(epochs, history_3.history[\"accuracy\"], zorder = 0, label = \"Training Accuracy\")\n",
    "line2, = plt.plot(epochs, history_3.history[\"val_accuracy\"], zorder = 1, label = \"Validation Accuracy\")\n",
    "\n",
    "plt.legend(handles = [line1, line2])\n",
    "plt.xlabel(\"Epoch\")\n",
    "plt.ylabel(\"Accuracy\")\n",
    "plt.title(\"Accuracy Vs. Epoch\")\n",
    "plt.show()"
   ]
  },
  {
   "cell_type": "code",
   "execution_count": 25,
   "id": "f162fe56",
   "metadata": {
    "execution": {
     "iopub.execute_input": "2022-10-11T06:01:53.768104Z",
     "iopub.status.busy": "2022-10-11T06:01:53.767684Z",
     "iopub.status.idle": "2022-10-11T06:01:53.996158Z",
     "shell.execute_reply": "2022-10-11T06:01:53.994905Z"
    },
    "papermill": {
     "duration": 0.259966,
     "end_time": "2022-10-11T06:01:53.998825",
     "exception": false,
     "start_time": "2022-10-11T06:01:53.738859",
     "status": "completed"
    },
    "tags": []
   },
   "outputs": [
    {
     "data": {
      "image/png": "[encoded data removed]",
      "text/plain": [
       "<Figure size 432x288 with 1 Axes>"
      ]
     },
     "metadata": {
      "needs_background": "light"
     },
     "output_type": "display_data"
    }
   ],
   "source": [
    "line1, = plt.plot(epochs, history_3.history[\"loss\"], zorder = 0, label = \"Training Loss\")\n",
    "line2, = plt.plot(epochs, history_3.history[\"val_loss\"], zorder = 1, label = \"Validation Loss\")\n",
    "\n",
    "plt.legend(handles = [line1, line2])\n",
    "plt.xlabel(\"Epoch\")\n",
    "plt.ylabel(\"Loss\")\n",
    "plt.title(\"Loss (Binary Cross-Entropy) Vs. Epoch\")\n",
    "plt.show()"
   ]
  },
  {
   "cell_type": "markdown",
   "id": "8ca16c73",
   "metadata": {
    "papermill": {
     "duration": 0.027657,
     "end_time": "2022-10-11T06:01:54.054463",
     "exception": false,
     "start_time": "2022-10-11T06:01:54.026806",
     "status": "completed"
    },
    "tags": []
   },
   "source": [
    "Out of all the three models, the 2nd model appeared to have the best results. The 1st model worked out relatively well, but adding the MaxPool layer to the 3rd model clearly had the opposite effect, and actually lowered the accuracy of the model. So, I went ahead and predicted the accuracy on the test set using Model #2: "
   ]
  },
  {
   "cell_type": "code",
   "execution_count": 26,
   "id": "e804ac52",
   "metadata": {
    "execution": {
     "iopub.execute_input": "2022-10-11T06:01:54.112763Z",
     "iopub.status.busy": "2022-10-11T06:01:54.112358Z",
     "iopub.status.idle": "2022-10-11T06:01:54.233636Z",
     "shell.execute_reply": "2022-10-11T06:01:54.232557Z"
    },
    "papermill": {
     "duration": 0.153325,
     "end_time": "2022-10-11T06:01:54.236238",
     "exception": false,
     "start_time": "2022-10-11T06:01:54.082913",
     "status": "completed"
    },
    "tags": []
   },
   "outputs": [
    {
     "name": "stdout",
     "output_type": "stream",
     "text": [
      "25/25 [==============================] - 0s 2ms/step - loss: 0.1576 - accuracy: 0.9377\n"
     ]
    },
    {
     "data": {
      "text/plain": [
       "[0.15764230489730835, 0.9377382397651672]"
      ]
     },
     "execution_count": 26,
     "metadata": {},
     "output_type": "execute_result"
    }
   ],
   "source": [
    "accuracy = model_2.evaluate(features_train,labels_train)\n",
    "accuracy"
   ]
  },
  {
   "cell_type": "markdown",
   "id": "a1b2b4ca",
   "metadata": {
    "papermill": {
     "duration": 0.027934,
     "end_time": "2022-10-11T06:01:54.292568",
     "exception": false,
     "start_time": "2022-10-11T06:01:54.264634",
     "status": "completed"
    },
    "tags": []
   },
   "source": [
    "It appears that the accuracy of model with the test set data would be around 0.9479. "
   ]
  },
  {
   "cell_type": "markdown",
   "id": "c883af5e",
   "metadata": {
    "papermill": {
     "duration": 0.027694,
     "end_time": "2022-10-11T06:01:54.348452",
     "exception": false,
     "start_time": "2022-10-11T06:01:54.320758",
     "status": "completed"
    },
    "tags": []
   },
   "source": [
    "#### Results/Conclusion:\n",
    "\n",
    "I honestly was not sure how a CNN model would work. The only context I had used it in before was for image-based data. My original plan was to use a supervised-learning model, such as a KNN or a Logistic Regression. However, I am happy that I  decided to take an alternative approach, and it luckily resulted in a pretty good accuracy score."
   ]
  },
  {
   "cell_type": "markdown",
   "id": "21512493",
   "metadata": {
    "papermill": {
     "duration": 0.02841,
     "end_time": "2022-10-11T06:01:54.405065",
     "exception": false,
     "start_time": "2022-10-11T06:01:54.376655",
     "status": "completed"
    },
    "tags": []
   },
   "source": []
  }
 ],
 "metadata": {
  "kernelspec": {
   "display_name": "Python 3",
   "language": "python",
   "name": "python3"
  },
  "language_info": {
   "codemirror_mode": {
    "name": "ipython",
    "version": 3
   },
   "file_extension": ".py",
   "mimetype": "text/x-python",
   "name": "python",
   "nbconvert_exporter": "python",
   "pygments_lexer": "ipython3",
   "version": "3.7.12"
  },
  "papermill": {
   "default_parameters": {},
   "duration": 45.000208,
   "end_time": "2022-10-11T06:01:57.433357",
   "environment_variables": {},
   "exception": null,
   "input_path": "__notebook__.ipynb",
   "output_path": "__notebook__.ipynb",
   "parameters": {},
   "start_time": "2022-10-11T06:01:12.433149",
   "version": "2.3.4"
  }
 },
 "nbformat": 4,
 "nbformat_minor": 5
}
